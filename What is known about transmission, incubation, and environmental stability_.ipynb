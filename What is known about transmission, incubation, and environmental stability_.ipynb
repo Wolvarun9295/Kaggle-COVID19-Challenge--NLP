{
 "cells": [
  {
   "cell_type": "code",
   "execution_count": 57,
   "metadata": {
    "scrolled": true
   },
   "outputs": [
    {
     "data": {
      "text/html": [
       "<style>.container { width:100% !important; }</style>"
      ],
      "text/plain": [
       "<IPython.core.display.HTML object>"
      ]
     },
     "metadata": {},
     "output_type": "display_data"
    }
   ],
   "source": [
    "from IPython.core.display import display, HTML\n",
    "display(HTML(\"<style>.container { width:100% !important; }</style>\"))"
   ]
  },
  {
   "cell_type": "code",
   "execution_count": 58,
   "metadata": {},
   "outputs": [],
   "source": [
    "import numpy as np\n",
    "import pandas as pd\n",
    "import functools\n",
    "from nltk import PorterStemmer"
   ]
  },
  {
   "cell_type": "code",
   "execution_count": 59,
   "metadata": {
    "scrolled": true
   },
   "outputs": [
    {
     "data": {
      "text/html": [
       "<div>\n",
       "<style scoped>\n",
       "    .dataframe tbody tr th:only-of-type {\n",
       "        vertical-align: middle;\n",
       "    }\n",
       "\n",
       "    .dataframe tbody tr th {\n",
       "        vertical-align: top;\n",
       "    }\n",
       "\n",
       "    .dataframe thead th {\n",
       "        text-align: right;\n",
       "    }\n",
       "</style>\n",
       "<table border=\"1\" class=\"dataframe\">\n",
       "  <thead>\n",
       "    <tr style=\"text-align: right;\">\n",
       "      <th></th>\n",
       "      <th>title</th>\n",
       "      <th>doi</th>\n",
       "      <th>abstract</th>\n",
       "      <th>publish_time</th>\n",
       "      <th>authors</th>\n",
       "      <th>journal</th>\n",
       "    </tr>\n",
       "  </thead>\n",
       "  <tbody>\n",
       "    <tr>\n",
       "      <th>0</th>\n",
       "      <td>Clinical features of culture-proven Mycoplasma...</td>\n",
       "      <td>10.1186/1471-2334-1-6</td>\n",
       "      <td>OBJECTIVE: This retrospective chart review des...</td>\n",
       "      <td>2001-07-04</td>\n",
       "      <td>Madani, Tariq A; Al-Ghamdi, Aisha A</td>\n",
       "      <td>BMC Infect Dis</td>\n",
       "    </tr>\n",
       "    <tr>\n",
       "      <th>1</th>\n",
       "      <td>Nitric oxide: a pro-inflammatory mediator in l...</td>\n",
       "      <td>10.1186/rr14</td>\n",
       "      <td>Inflammatory diseases of the respiratory tract...</td>\n",
       "      <td>2000-08-15</td>\n",
       "      <td>Vliet, Albert van der; Eiserich, Jason P; Cros...</td>\n",
       "      <td>Respir Res</td>\n",
       "    </tr>\n",
       "    <tr>\n",
       "      <th>2</th>\n",
       "      <td>Surfactant protein-D and pulmonary host defense</td>\n",
       "      <td>10.1186/rr19</td>\n",
       "      <td>Surfactant protein-D (SP-D) participates in th...</td>\n",
       "      <td>2000-08-25</td>\n",
       "      <td>Crouch, Erika C</td>\n",
       "      <td>Respir Res</td>\n",
       "    </tr>\n",
       "    <tr>\n",
       "      <th>3</th>\n",
       "      <td>Role of endothelin-1 in lung disease</td>\n",
       "      <td>10.1186/rr44</td>\n",
       "      <td>Endothelin-1 (ET-1) is a 21 amino acid peptide...</td>\n",
       "      <td>2001-02-22</td>\n",
       "      <td>Fagan, Karen A; McMurtry, Ivan F; Rodman, David M</td>\n",
       "      <td>Respir Res</td>\n",
       "    </tr>\n",
       "    <tr>\n",
       "      <th>4</th>\n",
       "      <td>Gene expression in epithelial cells in respons...</td>\n",
       "      <td>10.1186/rr61</td>\n",
       "      <td>Respiratory syncytial virus (RSV) and pneumoni...</td>\n",
       "      <td>2001-05-11</td>\n",
       "      <td>Domachowske, Joseph B; Bonville, Cynthia A; Ro...</td>\n",
       "      <td>Respir Res</td>\n",
       "    </tr>\n",
       "  </tbody>\n",
       "</table>\n",
       "</div>"
      ],
      "text/plain": [
       "                                               title                    doi  \\\n",
       "0  Clinical features of culture-proven Mycoplasma...  10.1186/1471-2334-1-6   \n",
       "1  Nitric oxide: a pro-inflammatory mediator in l...           10.1186/rr14   \n",
       "2    Surfactant protein-D and pulmonary host defense           10.1186/rr19   \n",
       "3               Role of endothelin-1 in lung disease           10.1186/rr44   \n",
       "4  Gene expression in epithelial cells in respons...           10.1186/rr61   \n",
       "\n",
       "                                            abstract publish_time  \\\n",
       "0  OBJECTIVE: This retrospective chart review des...   2001-07-04   \n",
       "1  Inflammatory diseases of the respiratory tract...   2000-08-15   \n",
       "2  Surfactant protein-D (SP-D) participates in th...   2000-08-25   \n",
       "3  Endothelin-1 (ET-1) is a 21 amino acid peptide...   2001-02-22   \n",
       "4  Respiratory syncytial virus (RSV) and pneumoni...   2001-05-11   \n",
       "\n",
       "                                             authors         journal  \n",
       "0                Madani, Tariq A; Al-Ghamdi, Aisha A  BMC Infect Dis  \n",
       "1  Vliet, Albert van der; Eiserich, Jason P; Cros...      Respir Res  \n",
       "2                                    Crouch, Erika C      Respir Res  \n",
       "3  Fagan, Karen A; McMurtry, Ivan F; Rodman, David M      Respir Res  \n",
       "4  Domachowske, Joseph B; Bonville, Cynthia A; Ro...      Respir Res  "
      ]
     },
     "execution_count": 59,
     "metadata": {},
     "output_type": "execute_result"
    }
   ],
   "source": [
    "pd.options.mode.chained_assignment = None\n",
    "\n",
    "df=pd.read_csv(\"/home/varun_nagrare/2020-08-03/metadata.csv\", low_memory=False, usecols=['title','journal','abstract','authors','doi','publish_time'])\n",
    "df.head()"
   ]
  },
  {
   "cell_type": "code",
   "execution_count": 60,
   "metadata": {},
   "outputs": [],
   "source": [
    "# keep only documents with covid -cov-2 and cov2\n",
    "def search_focus(df):\n",
    "    dfa = df[df['abstract'].str.contains('covid')]\n",
    "    dfb = df[df['abstract'].str.contains('-cov-2')]\n",
    "    dfc = df[df['abstract'].str.contains('cov2')]\n",
    "    dfd = df[df['abstract'].str.contains('ncov')]\n",
    "    dfe = df[df['abstract'].str.contains('coronavirus')]\n",
    "    dff = df[df['abstract'].str.contains('sars-cov-2')]\n",
    "    \n",
    "    frames=[dfa,dfb,dfc,dfd,dfe,dff]\n",
    "    df = pd.concat(frames)\n",
    "    df=df.drop_duplicates(subset='title', keep=\"first\")\n",
    "    return df"
   ]
  },
  {
   "cell_type": "code",
   "execution_count": 61,
   "metadata": {},
   "outputs": [
    {
     "name": "stdout",
     "output_type": "stream",
     "text": [
      "(207311, 6)\n"
     ]
    }
   ],
   "source": [
    "print (df.shape)\n",
    "\n",
    "#drop duplicates\n",
    "df=df.drop_duplicates()\n",
    "\n",
    "#drop NANs \n",
    "df=df.fillna(\"no data \")\n",
    "\n",
    "# drop duplicates keeping the first occurence\n",
    "df=df.drop_duplicates(subset='title', keep=\"first\")\n",
    "\n",
    "# finding publish_time which contains year 2020\n",
    "df=df[df['publish_time'].str.contains('2020')]"
   ]
  },
  {
   "cell_type": "code",
   "execution_count": 62,
   "metadata": {},
   "outputs": [
    {
     "name": "stdout",
     "output_type": "stream",
     "text": [
      "(71778, 6)\n"
     ]
    },
    {
     "data": {
      "text/html": [
       "<div>\n",
       "<style scoped>\n",
       "    .dataframe tbody tr th:only-of-type {\n",
       "        vertical-align: middle;\n",
       "    }\n",
       "\n",
       "    .dataframe tbody tr th {\n",
       "        vertical-align: top;\n",
       "    }\n",
       "\n",
       "    .dataframe thead th {\n",
       "        text-align: right;\n",
       "    }\n",
       "</style>\n",
       "<table border=\"1\" class=\"dataframe\">\n",
       "  <thead>\n",
       "    <tr style=\"text-align: right;\">\n",
       "      <th></th>\n",
       "      <th>title</th>\n",
       "      <th>doi</th>\n",
       "      <th>abstract</th>\n",
       "      <th>publish_time</th>\n",
       "      <th>authors</th>\n",
       "      <th>journal</th>\n",
       "    </tr>\n",
       "  </thead>\n",
       "  <tbody>\n",
       "    <tr>\n",
       "      <th>4662</th>\n",
       "      <td>Latest assessment on COVID-19 from the Europea...</td>\n",
       "      <td>10.2807/1560-7917.es.2020.25.8.2002271</td>\n",
       "      <td>no data latest assessment on covid-19 from the...</td>\n",
       "      <td>2020-02-27</td>\n",
       "      <td>no data</td>\n",
       "      <td>Euro Surveill</td>\n",
       "    </tr>\n",
       "    <tr>\n",
       "      <th>4698</th>\n",
       "      <td>Updated rapid risk assessment from ECDC on the...</td>\n",
       "      <td>10.2807/1560-7917.es.2020.25.9.2003051</td>\n",
       "      <td>no data updated rapid risk assessment from ecd...</td>\n",
       "      <td>2020-03-05</td>\n",
       "      <td>no data</td>\n",
       "      <td>Euro Surveill</td>\n",
       "    </tr>\n",
       "    <tr>\n",
       "      <th>4732</th>\n",
       "      <td>Updated rapid risk assessment from ECDC on the...</td>\n",
       "      <td>10.2807/1560-7917.es.2020.25.10.2003121</td>\n",
       "      <td>no data updated rapid risk assessment from ecd...</td>\n",
       "      <td>2020-03-12</td>\n",
       "      <td>no data</td>\n",
       "      <td>Euro Surveill</td>\n",
       "    </tr>\n",
       "    <tr>\n",
       "      <th>4800</th>\n",
       "      <td>Empfehlungen zur intensivmedizinischen Therapi...</td>\n",
       "      <td>10.1007/s00063-020-00674-3</td>\n",
       "      <td>no data empfehlungen zur intensivmedizinischen...</td>\n",
       "      <td>2020-03-12</td>\n",
       "      <td>Kluge, Stefan; Janssens, Uwe; Welte, Tobias; W...</td>\n",
       "      <td>Med Klin Intensivmed Notfmed</td>\n",
       "    </tr>\n",
       "    <tr>\n",
       "      <th>5683</th>\n",
       "      <td>The impact of COVID-19 on the provision of don...</td>\n",
       "      <td>10.1038/s41409-020-0873-x</td>\n",
       "      <td>no data the impact of covid-19 on the provisio...</td>\n",
       "      <td>2020-03-23</td>\n",
       "      <td>Szer, Jeff; Weisdorf, Daniel; Querol, Sergio; ...</td>\n",
       "      <td>Bone Marrow Transplant</td>\n",
       "    </tr>\n",
       "  </tbody>\n",
       "</table>\n",
       "</div>"
      ],
      "text/plain": [
       "                                                  title  \\\n",
       "4662  Latest assessment on COVID-19 from the Europea...   \n",
       "4698  Updated rapid risk assessment from ECDC on the...   \n",
       "4732  Updated rapid risk assessment from ECDC on the...   \n",
       "4800  Empfehlungen zur intensivmedizinischen Therapi...   \n",
       "5683  The impact of COVID-19 on the provision of don...   \n",
       "\n",
       "                                          doi  \\\n",
       "4662   10.2807/1560-7917.es.2020.25.8.2002271   \n",
       "4698   10.2807/1560-7917.es.2020.25.9.2003051   \n",
       "4732  10.2807/1560-7917.es.2020.25.10.2003121   \n",
       "4800               10.1007/s00063-020-00674-3   \n",
       "5683                10.1038/s41409-020-0873-x   \n",
       "\n",
       "                                               abstract publish_time  \\\n",
       "4662  no data latest assessment on covid-19 from the...   2020-02-27   \n",
       "4698  no data updated rapid risk assessment from ecd...   2020-03-05   \n",
       "4732  no data updated rapid risk assessment from ecd...   2020-03-12   \n",
       "4800  no data empfehlungen zur intensivmedizinischen...   2020-03-12   \n",
       "5683  no data the impact of covid-19 on the provisio...   2020-03-23   \n",
       "\n",
       "                                                authors  \\\n",
       "4662                                           no data    \n",
       "4698                                           no data    \n",
       "4732                                           no data    \n",
       "4800  Kluge, Stefan; Janssens, Uwe; Welte, Tobias; W...   \n",
       "5683  Szer, Jeff; Weisdorf, Daniel; Querol, Sergio; ...   \n",
       "\n",
       "                           journal  \n",
       "4662                 Euro Surveill  \n",
       "4698                 Euro Surveill  \n",
       "4732                 Euro Surveill  \n",
       "4800  Med Klin Intensivmed Notfmed  \n",
       "5683        Bone Marrow Transplant  "
      ]
     },
     "execution_count": 62,
     "metadata": {},
     "output_type": "execute_result"
    }
   ],
   "source": [
    "# convert abstracts to lowercase\n",
    "df[\"abstract\"] = df[\"abstract\"].str.lower()+df[\"title\"].str.lower()\n",
    "\n",
    "#show 5 lines of the new dataframe\n",
    "df=search_focus(df)\n",
    "\n",
    "print(df.shape)\n",
    "\n",
    "df.head()"
   ]
  },
  {
   "cell_type": "code",
   "execution_count": 63,
   "metadata": {},
   "outputs": [],
   "source": [
    "# function to find the root word of search_words\n",
    "def stem_words(search_words):\n",
    "    stemmer = PorterStemmer()\n",
    "    singles=[]\n",
    "    for w in search_words:\n",
    "        singles.append(stemmer.stem(w))\n",
    "    return singles"
   ]
  },
  {
   "cell_type": "code",
   "execution_count": 64,
   "metadata": {},
   "outputs": [],
   "source": [
    "# function to find exact words\n",
    "def search_dataframe(df,search_words):\n",
    "    search_words=stem_words(search_words)\n",
    "    df1=df[functools.reduce(lambda a, b: a&b, (df['abstract'].str.contains(s) for s in search_words))]\n",
    "    return df1"
   ]
  },
  {
   "cell_type": "code",
   "execution_count": 65,
   "metadata": {},
   "outputs": [],
   "source": [
    "# function analyze search results for relevance with word count or abstract length\n",
    "def search_relevance(rel_df,search_words):\n",
    "    rel_df['score']=\"\"\n",
    "    search_words=stem_words(search_words)\n",
    "    for index, row in rel_df.iterrows():\n",
    "        abstract = row['abstract']\n",
    "        result = abstract.split()\n",
    "        len_abstract=len(result)\n",
    "        score=0\n",
    "        for word in search_words:\n",
    "            score=score+result.count(word)\n",
    "        final_score=(score/len_abstract)\n",
    "        rel_score=score*final_score\n",
    "        rel_df.loc[index, 'score'] = rel_score\n",
    "    rel_df=rel_df.sort_values(by=['score'], ascending=False)\n",
    "    return rel_df"
   ]
  },
  {
   "cell_type": "code",
   "execution_count": 82,
   "metadata": {},
   "outputs": [],
   "source": [
    "# function to get best sentences from the search results\n",
    "def get_sentences(df1,search_words):\n",
    "    df_table = pd.DataFrame(columns = [\"pub_date\",\"authors\",\"title\",\"fragment\",\"rel_score\"])\n",
    "    search_words=stem_words(search_words)\n",
    "    for index, row in df1.iterrows():\n",
    "        pub_sentence=''\n",
    "        sentences_used=0\n",
    "        #break apart the absracrt to sentence level\n",
    "        sentences = row['abstract'].split('. ')\n",
    "        #loop through the sentences of the abstract\n",
    "        highligts=[]\n",
    "        for sentence in sentences:\n",
    "            # missing lets the system know if all the words are in the sentence\n",
    "            missing=0\n",
    "            #loop through the words of sentence\n",
    "            for word in search_words:\n",
    "                #if keyword missing change missing variable\n",
    "                if word not in sentence:\n",
    "                    missing=1\n",
    "                #if '%' in sentence:\n",
    "                    #missing=missing-1\n",
    "            # after all sentences processed show the sentences not missing keywords\n",
    "            if missing==0 and len(sentence)<1000 and sentence!='':\n",
    "                sentence=sentence.capitalize()\n",
    "                if sentence[len(sentence)-1]!='.':\n",
    "                    sentence=sentence+'.'\n",
    "                pub_sentence=pub_sentence+'<br><br>'+sentence\n",
    "        if pub_sentence!='':\n",
    "            sentence=pub_sentence\n",
    "            sentences_used=sentences_used+1\n",
    "            authors=row[\"authors\"].split(\" \")\n",
    "            link=row['doi']\n",
    "            title=row[\"title\"]\n",
    "            score=row[\"score\"]\n",
    "            linka='https://doi.org/'+link\n",
    "            linkb=title\n",
    "            sentence='<p fontsize=tiny\" align=\"left\">'+sentence+'</p>'\n",
    "            final_link='<p align=\"left\"><a href=\"{}\">{}</a></p>'.format(linka,linkb)\n",
    "            to_append = [row['publish_time'],authors[0]+' and others.',final_link,sentence,score]\n",
    "            df_length = len(df_table)\n",
    "            df_table.loc[df_length] = to_append\n",
    "    return df_table"
   ]
  },
  {
   "cell_type": "markdown",
   "metadata": {},
   "source": [
    "# What is known about transmission, incubation, and environmental stability?"
   ]
  },
  {
   "cell_type": "code",
   "execution_count": 83,
   "metadata": {
    "scrolled": false
   },
   "outputs": [
    {
     "data": {
      "text/html": [
       "<br><h3>Q: What is the range of incubation periods for the disease in humans?</h3>"
      ],
      "text/plain": [
       "<IPython.core.display.HTML object>"
      ]
     },
     "metadata": {},
     "output_type": "display_data"
    },
    {
     "data": {
      "text/html": [
       "<table border=\"1\" class=\"dataframe\">\n",
       "  <thead>\n",
       "    <tr style=\"text-align: right;\">\n",
       "      <th>pub_date</th>\n",
       "      <th>authors</th>\n",
       "      <th>title</th>\n",
       "      <th>fragment</th>\n",
       "    </tr>\n",
       "  </thead>\n",
       "  <tbody>\n",
       "    <tr>\n",
       "      <td>2020-03-18</td>\n",
       "      <td>Jiang, and others.</td>\n",
       "      <td><p align=\"left\"><a href=\"https://doi.org/10.1101/2020.03.15.20036533\">Is a 14-day quarantine period optimal for effectively controlling coronavirus disease 2019 (COVID-19)?</a></p></td>\n",
       "      <td><p fontsize=tiny\" align=\"left\"><br><br>Results the full range of incubation periods of the covid-19 cases ranged from 0 to 33 days among 2015 cases.</p></td>\n",
       "    </tr>\n",
       "    <tr>\n",
       "      <td>2020-05-15</td>\n",
       "      <td>Bui, and others.</td>\n",
       "      <td><p align=\"left\"><a href=\"https://doi.org/10.1101/2020.05.09.20096800\">Estimation of the incubation period of SARS-CoV-2 in Vietnam</a></p></td>\n",
       "      <td><p fontsize=tiny\" align=\"left\"><br><br>Average incubation periods estimated using different distribution model ranged from 6.0 days to 6.4 days with the weibull distribution demonstrated the best fit to the data.<br><br>The estimated mean of incubation period using weibull distribution model was 6.4 days (95% credible interval (ci): 4.89 - 8.5), standard deviation (sd) was 3.05 (95%ci 3.05 - 5.30), median was 5.6, ranges from 1.35 to 13.04 days (2.5th to 97.5th percentiles).</p></td>\n",
       "    </tr>\n",
       "    <tr>\n",
       "      <td>2020-03-08</td>\n",
       "      <td>Xia, and others.</td>\n",
       "      <td><p align=\"left\"><a href=\"https://doi.org/10.1101/2020.03.06.20031955\">Transmission of corona virus disease 2019 during the incubation period may lead to a quarantine loophole</a></p></td>\n",
       "      <td><p fontsize=tiny\" align=\"left\"><br><br>Results: the estimated mean incubation period for covid-19 was 4.9 days (95% confidence interval [ci], 4.4 to 5.4) days, ranging from 0.8 to 11.1 days (2.5th to 97.5th percentile).</p></td>\n",
       "    </tr>\n",
       "    <tr>\n",
       "      <td>2020</td>\n",
       "      <td>Yang, and others.</td>\n",
       "      <td><p align=\"left\"><a href=\"https://doi.org/no data \">Estimation of incubation period and serial interval of COVID-19: analysis of 178 cases and 131 transmission chains in Hubei province, China</a></p></td>\n",
       "      <td><p fontsize=tiny\" align=\"left\"><br><br>Our estimated median incubation period of covid-19 is 5.4 days (bootstrapped 95% confidence interval (ci) 4.8-6.0), and the 2.5th and 97.5th percentiles are 1 and 15 days, respectively; while the estimated serial interval of covid-19 falls within the range of -4 to 13 days with 95% confidence and has a median of 4.6 days (95% ci 3.7-5.5).</p></td>\n",
       "    </tr>\n",
       "    <tr>\n",
       "      <td>2020</td>\n",
       "      <td>Yang, and others.</td>\n",
       "      <td><p align=\"left\"><a href=\"https://doi.org/no data \">[The preliminary analysis on the characteristics of the cluster for the COVID-19]</a></p></td>\n",
       "      <td><p fontsize=tiny\" align=\"left\"><br><br>We selected 325 cases to estimate the incubation period and its range was 1 to 20 days, median was 7 days, and mode was 4 days.</p></td>\n",
       "    </tr>\n",
       "  </tbody>\n",
       "</table>"
      ],
      "text/plain": [
       "<IPython.core.display.HTML object>"
      ]
     },
     "metadata": {},
     "output_type": "display_data"
    },
    {
     "data": {
      "text/html": [
       "<br><h3>Q: How long are individuals contagious?</h3>"
      ],
      "text/plain": [
       "<IPython.core.display.HTML object>"
      ]
     },
     "metadata": {},
     "output_type": "display_data"
    },
    {
     "data": {
      "text/html": [
       "<table border=\"1\" class=\"dataframe\">\n",
       "  <thead>\n",
       "    <tr style=\"text-align: right;\">\n",
       "      <th>pub_date</th>\n",
       "      <th>authors</th>\n",
       "      <th>title</th>\n",
       "      <th>fragment</th>\n",
       "    </tr>\n",
       "  </thead>\n",
       "  <tbody>\n",
       "    <tr>\n",
       "      <td>2020-05-23</td>\n",
       "      <td>Weiss, and others.</td>\n",
       "      <td><p align=\"left\"><a href=\"https://doi.org/10.1101/2020.05.21.20108605\">Spatial and temporal dynamics of SARS-CoV-2 in COVID-19 patients: A systematic review</a></p></td>\n",
       "      <td><p fontsize=tiny\" align=\"left\"><br><br>In this study, we aimed to provide a coherent overview from published studies of the duration of viral detection and viral load in covid-19 patients, stratified by specimen type, clinical severity and age.</p></td>\n",
       "    </tr>\n",
       "    <tr>\n",
       "      <td>2020-07-21</td>\n",
       "      <td>Dodds, and others.</td>\n",
       "      <td><p align=\"left\"><a href=\"https://doi.org/10.1111/bcp.14486\">Model-Informed Drug Repurposing: Viral Kinetic Modeling to Prioritize Rational Drug Combinations for COVID-19.</a></p></td>\n",
       "      <td><p fontsize=tiny\" align=\"left\"><br><br>The endpoints and metrics included viral load area under the curve (auc), duration of viral shedding, and epithelial cells infected.<br><br>In addition, we observed that the time-window opportunity for a therapeutic intervention to effect duration of viral shedding exceeds the effect on sparing epithelial cells from infection or impact on viral load auc.</p></td>\n",
       "    </tr>\n",
       "    <tr>\n",
       "      <td>2020</td>\n",
       "      <td>Dodds, and others.</td>\n",
       "      <td><p align=\"left\"><a href=\"https://doi.org/no data \">Model-Informed Drug Repurposing: Viral Kinetic Modeling to Prioritize Rational Drug Combinations for COVID-19</a></p></td>\n",
       "      <td><p fontsize=tiny\" align=\"left\"><br><br>The endpoints and metrics included viral load area under the curve (auc), duration of viral shedding, and epithelial cells infected.<br><br>In addition, we observed that the time-window opportunity for a therapeutic intervention to effect duration of viral shedding exceeds the effect on sparing epithelial cells from infection or impact on viral load auc.</p></td>\n",
       "    </tr>\n",
       "    <tr>\n",
       "      <td>2020-07-30</td>\n",
       "      <td>Park, and others.</td>\n",
       "      <td><p align=\"left\"><a href=\"https://doi.org/10.1101/2020.07.28.20163873\">Determining the period of communicability of SARS-CoV-2: A rapid review of the literature</a></p></td>\n",
       "      <td><p fontsize=tiny\" align=\"left\"><br><br>Methods: studies reporting empirical data on the period of communicability of sars-cov-2 through investigations of duration of communicability based on in-person contact ('contact transmission'), isolation and culture of virus ('viral isolation'), and viral shedding by detection of nucleic acids by rt-pcr ('viral shedding') were identified through searches of peer-reviewed and pre-print health sciences literature databases (ovid medline, embase, google scholar, medrxiv and arxiv) and the grey literature.</p></td>\n",
       "    </tr>\n",
       "    <tr>\n",
       "      <td>2020-07-28</td>\n",
       "      <td>Cevik, and others.</td>\n",
       "      <td><p align=\"left\"><a href=\"https://doi.org/10.1101/2020.07.25.20162107\">SARS-CoV-2 viral load dynamics, duration of viral shedding and infectiousness: a living systematic review and meta-analysis</a></p></td>\n",
       "      <td><p fontsize=tiny\" align=\"left\"><br><br>Background viral load kinetics and the duration of viral shedding are important determinants for disease transmission.<br><br>We aim i) to characterise viral load dynamics, duration of viral rna, and viable virus shedding of sars-cov-2 in various body fluids and ii) to compare sars-cov-2 viral dynamics with sars-cov-1 and mers-cov.<br><br>Methods: medline, embase, europe pmc, preprint servers and grey literature were searched to retrieve all articles reporting viral dynamics and duration of sars-cov-2, sars-cov-1 and mers-cov shedding.<br><br>Funding: no funding was received.sars-cov-2 viral load dynamics, duration of viral shedding and infectiousness: a living systematic review and meta-analysis.</p></td>\n",
       "    </tr>\n",
       "  </tbody>\n",
       "</table>"
      ],
      "text/plain": [
       "<IPython.core.display.HTML object>"
      ]
     },
     "metadata": {},
     "output_type": "display_data"
    },
    {
     "data": {
      "text/html": [
       "<br><h3>Q: How long are individuals contagious, even after recovery.</h3>"
      ],
      "text/plain": [
       "<IPython.core.display.HTML object>"
      ]
     },
     "metadata": {},
     "output_type": "display_data"
    },
    {
     "data": {
      "text/html": [
       "<table border=\"1\" class=\"dataframe\">\n",
       "  <thead>\n",
       "    <tr style=\"text-align: right;\">\n",
       "      <th>pub_date</th>\n",
       "      <th>authors</th>\n",
       "      <th>title</th>\n",
       "      <th>fragment</th>\n",
       "    </tr>\n",
       "  </thead>\n",
       "  <tbody>\n",
       "    <tr>\n",
       "      <td>2020-03-31</td>\n",
       "      <td>Abduljalil, and others.</td>\n",
       "      <td><p align=\"left\"><a href=\"https://doi.org/10.1016/j.nmni.2020.100672\">Epidemiology, genome, and clinical features of the pandemic SARS-CoV-2: a recent view</a></p></td>\n",
       "      <td><p fontsize=tiny\" align=\"left\"><br><br>Asymptomatic carrier state is of paramount importance because of carriers' ability to spread the infection and to shed the virus into the air and surroundings.</p></td>\n",
       "    </tr>\n",
       "    <tr>\n",
       "      <td>2020</td>\n",
       "      <td>Li, and others.</td>\n",
       "      <td><p align=\"left\"><a href=\"https://doi.org/no data \">Viral shedding dynamics in asymptomatic and mildly symptomatic patients infected with SARS-CoV-2</a></p></td>\n",
       "      <td><p fontsize=tiny\" align=\"left\"><br><br>The median duration of viral shedding was 11.5, 28 and 31 days for pre-symptomatic, asymptomatic and mild symptomatic patients, separately.<br><br>Conclusions: long-term viral shedding was presented in patients with mild symptoms and asymptomatic cases, and specific antibody production to sars-cov-2 may not guarantee viral clearance after discharge.<br><br>These observations should be considered when making decisions regarding clinical and public health and strategies for prevention and control of sars-cov-2 infection.viral shedding dynamics in asymptomatic and mildly symptomatic patients infected with sars-cov-2.</p></td>\n",
       "    </tr>\n",
       "    <tr>\n",
       "      <td>2020</td>\n",
       "      <td>Matava, and others.</td>\n",
       "      <td><p align=\"left\"><a href=\"https://doi.org/no data \">Pediatric Airway Management in COVID-19 Patients: Consensus Guidelines From the Society for Pediatric Anesthesia's Pediatric Difficult Intubation Collaborative and the Canadian Pediatric Anesthesia Society</a></p></td>\n",
       "      <td><p fontsize=tiny\" align=\"left\"><br><br>Pedi-c identified overarching goals during care, including minimizing aerosolized respiratory secretions, minimizing the number of clinicians in contact with a patient, and recognizing that undiagnosed asymptomatic patients may shed the virus and infect health care workers.</p></td>\n",
       "    </tr>\n",
       "    <tr>\n",
       "      <td>2020-04-20</td>\n",
       "      <td>Matava, and others.</td>\n",
       "      <td><p align=\"left\"><a href=\"https://doi.org/10.1213/ane.0000000000004872\">Pediatric Airway Management in Coronavirus Disease 2019 Patients: Consensus Guidelines From the Society for Pediatric Anesthesia’s Pediatric Difficult Intubation Collaborative and the Canadian Pediatric Anesthesia Society</a></p></td>\n",
       "      <td><p fontsize=tiny\" align=\"left\"><br><br>Pedi-c identified overarching goals during care, including minimizing aerosolized respiratory secretions, minimizing the number of clinicians in contact with a patient, and recognizing that undiagnosed asymptomatic patients may shed the virus and infect health care workers.</p></td>\n",
       "    </tr>\n",
       "    <tr>\n",
       "      <td>2020-05-25</td>\n",
       "      <td>Beggs, and others.</td>\n",
       "      <td><p align=\"left\"><a href=\"https://doi.org/10.1101/2020.05.22.20109991\">Is there an airborne component to the transmission of COVID-19? : a quantitative analysis study</a></p></td>\n",
       "      <td><p fontsize=tiny\" align=\"left\"><br><br>Conclusions given that live sars-cov-2 virions are known to be shed in high concentrations from the nasal cavity of both symptomatic and asymptomatic covid-19 patients, the results suggest that individuals who share enclosed spaces with an infector may be at risk of contracting covid-19 by the aerosol route, even when practicing social distancing.is there an airborne component to the transmission of covid-19? : a quantitative analysis study.</p></td>\n",
       "    </tr>\n",
       "  </tbody>\n",
       "</table>"
      ],
      "text/plain": [
       "<IPython.core.display.HTML object>"
      ]
     },
     "metadata": {},
     "output_type": "display_data"
    },
    {
     "data": {
      "text/html": [
       "<br><h3>Q: Is population movement control effective in stopping transmission?</h3>"
      ],
      "text/plain": [
       "<IPython.core.display.HTML object>"
      ]
     },
     "metadata": {},
     "output_type": "display_data"
    },
    {
     "data": {
      "text/html": [
       "<table border=\"1\" class=\"dataframe\">\n",
       "  <thead>\n",
       "    <tr style=\"text-align: right;\">\n",
       "      <th>pub_date</th>\n",
       "      <th>authors</th>\n",
       "      <th>title</th>\n",
       "      <th>fragment</th>\n",
       "    </tr>\n",
       "  </thead>\n",
       "  <tbody>\n",
       "    <tr>\n",
       "      <td>2020</td>\n",
       "      <td>Guerrero, and others.</td>\n",
       "      <td><p align=\"left\"><a href=\"https://doi.org/no data \">Canadian children's and youth's adherence to the 24-h movement guidelines during the COVID-19 pandemic: A decision tree analysis</a></p></td>\n",
       "      <td><p fontsize=tiny\" align=\"left\"><br><br>Results highlight the importance of targeting parents' perceived capability for the promotion of children's and youth's movement behaviors during challenging times of the covid-19 pandemic, paying particular attention to enhancing parental perceived capability to restrict screen time.canadian children's and youth's adherence to the 24-h movement guidelines during the covid-19 pandemic: a decision tree analysis.</p></td>\n",
       "    </tr>\n",
       "    <tr>\n",
       "      <td>2020</td>\n",
       "      <td>Moore, and others.</td>\n",
       "      <td><p align=\"left\"><a href=\"https://doi.org/no data \">Impact of the COVID-19 virus outbreak on movement and play behaviours of Canadian children and youth: a national survey</a></p></td>\n",
       "      <td><p fontsize=tiny\" align=\"left\"><br><br>Though the covid-19 virus outbreak has changed the daily lives of children and youth, it is unknown to what extent related restrictions may compromise the ability to play and meet movement behaviour recommendations.<br><br>This secondary data analysis examined the immediate impacts of covid-19 restrictions on movement and play behaviours in children and youth.<br><br>Results: only 4.8% (2.8% girls, 6.5% boys) of children and 0.6% (0.8% girls, 0.5% boys) of youth were meeting combined movement behaviour guidelines during covid-19 restrictions.</p></td>\n",
       "    </tr>\n",
       "    <tr>\n",
       "      <td>2020-06-13</td>\n",
       "      <td>Tang, and others.</td>\n",
       "      <td><p align=\"left\"><a href=\"https://doi.org/10.1007/s10389-020-01316-w\">Movement control as an effective measure against Covid-19 spread in Malaysia: an overview</a></p></td>\n",
       "      <td><p fontsize=tiny\" align=\"left\"><br><br>Results: at the onset of the covid-19 outbreak, malaysia had initiated travel restrictions and quarantine; but with a persistent increase in new covid-19 cases, the movement control order was finally rolled out on 18 march 2020, requiring closure of all businesses except those providing essential services and items.</p></td>\n",
       "    </tr>\n",
       "    <tr>\n",
       "      <td>2020-06-12</td>\n",
       "      <td>Bucsky, and others.</td>\n",
       "      <td><p align=\"left\"><a href=\"https://doi.org/10.1016/j.trip.2020.100141\">Modal share changes due to COVID-19: The case of Budapest</a></p></td>\n",
       "      <td><p fontsize=tiny\" align=\"left\"><br><br>One of the most important responses of countries worldwide to slow the spread of the pandemic has been to restrict the movement of people, which has had a considerable effect on transport systems.</p></td>\n",
       "    </tr>\n",
       "    <tr>\n",
       "      <td>2020-07-21</td>\n",
       "      <td>Ong, and others.</td>\n",
       "      <td><p align=\"left\"><a href=\"https://doi.org/10.1101/2020.07.21.214056\">Implications of the COVID-19 lockdown on dengue transmission and the occurrence of Aedes aegypti (Linnaeus) and Aedes albopictus (Skuse) in Malaysia</a></p></td>\n",
       "      <td><p fontsize=tiny\" align=\"left\"><br><br>The impact of movement restrictions (mrs) during the covid-19 lockdown on the existing endemic infectious disease dengue fever has generated considerable research interest.<br><br>With a partial lockdown implemented by malaysia on 18 march, we postulate the movement restrictions (mrs) of people in large-scale would hamper the regular dengue transmission and aim to reveal the impact of mrs on both dengue incidences and aedes mosquitoes.</p></td>\n",
       "    </tr>\n",
       "  </tbody>\n",
       "</table>"
      ],
      "text/plain": [
       "<IPython.core.display.HTML object>"
      ]
     },
     "metadata": {},
     "output_type": "display_data"
    },
    {
     "data": {
      "text/html": [
       "<br><h3>Q: What is the role of environment in transmission?</h3>"
      ],
      "text/plain": [
       "<IPython.core.display.HTML object>"
      ]
     },
     "metadata": {},
     "output_type": "display_data"
    },
    {
     "data": {
      "text/html": [
       "<table border=\"1\" class=\"dataframe\">\n",
       "  <thead>\n",
       "    <tr style=\"text-align: right;\">\n",
       "      <th>pub_date</th>\n",
       "      <th>authors</th>\n",
       "      <th>title</th>\n",
       "      <th>fragment</th>\n",
       "    </tr>\n",
       "  </thead>\n",
       "  <tbody>\n",
       "    <tr>\n",
       "      <td>2020</td>\n",
       "      <td>Rickman, and others.</td>\n",
       "      <td><p align=\"left\"><a href=\"https://doi.org/no data \">Nosocomial transmission of COVID-19: a retrospective study of 66 hospital-acquired cases in a London teaching hospital</a></p></td>\n",
       "      <td><p fontsize=tiny\" align=\"left\"><br><br>In a major london teaching hospital, 66/435 (15%) of covid-19 inpatient cases between 2 march and 12 april 2020 were definitely or probably hospital-acquired, through varied transmission routes.</p></td>\n",
       "    </tr>\n",
       "    <tr>\n",
       "      <td>2020</td>\n",
       "      <td>Manabe, and others.</td>\n",
       "      <td><p align=\"left\"><a href=\"https://doi.org/no data \">Trends in clinical features of novel coronavirus disease (COVID-19): A systematic review and meta-analysis of studies published from December 2019 to February 2020</a></p></td>\n",
       "      <td><p fontsize=tiny\" align=\"left\"><br><br>During this observation period, as the infection continued to spread, the clinical conditions for majority of patients became less severe with the changes in the route of transmission.trends in clinical features of novel coronavirus disease (covid-19): a systematic review and meta-analysis of studies published from december 2019 to february 2020.</p></td>\n",
       "    </tr>\n",
       "    <tr>\n",
       "      <td>2020</td>\n",
       "      <td>Herrera, and others.</td>\n",
       "      <td><p align=\"left\"><a href=\"https://doi.org/no data \">Is the oral cavity relevant in SARS-CoV-2 pandemic?</a></p></td>\n",
       "      <td><p fontsize=tiny\" align=\"left\"><br><br>Similarly, a decrease in the oral viral load would diminish the amount of virus expelled and reduce the risk of transmission, since (i) during the first 10 days, the virus mainly accumulates at the nasal, oral, and pharyngeal area; (ii) the number of angiotensin-converting enzyme (ace2) receptor is greater in the salivary glands as compared with the lungs; and (iii) salivary droplets represent the most relevant transmission route.</p></td>\n",
       "    </tr>\n",
       "    <tr>\n",
       "      <td>2020</td>\n",
       "      <td>Zhang, and others.</td>\n",
       "      <td><p align=\"left\"><a href=\"https://doi.org/no data \">Biological, clinical and epidemiological features of COVID-19, SARS and MERS and AutoDock simulation of ACE2</a></p></td>\n",
       "      <td><p fontsize=tiny\" align=\"left\"><br><br>In addition to the common route of transmission including airborne transmission, these three viruses have their own unique routes of transmission such as fecal-oral route of transmission covid-19.<br><br>Their receptors and routes of transmission are not all the same, which makes them different in clinical features and treatments.</p></td>\n",
       "    </tr>\n",
       "    <tr>\n",
       "      <td>2020-05-15</td>\n",
       "      <td>Garcia-Alamino, and others.</td>\n",
       "      <td><p align=\"left\"><a href=\"https://doi.org/10.1016/j.enfcli.2020.05.001\">Aspectos Epidemiológicos, Clínica Y Mecanismos De Control De La Pandemia Por Sars-Cov-2: Situación En España</a></p></td>\n",
       "      <td><p fontsize=tiny\" align=\"left\"><br><br>Sars-cov-2 has a high transmission rate, the route of transmission between humans is through the secretions of infected people, hands or contaminated objects.</p></td>\n",
       "    </tr>\n",
       "  </tbody>\n",
       "</table>"
      ],
      "text/plain": [
       "<IPython.core.display.HTML object>"
      ]
     },
     "metadata": {},
     "output_type": "display_data"
    }
   ],
   "source": [
    "# list of lists of search terms\n",
    "questions=[\n",
    "['Q: What is the range of incubation periods for the disease in humans?'],\n",
    "['Q: How long are individuals contagious?'],\n",
    "['Q: How long are individuals contagious, even after recovery.'],\n",
    "['Q: Is population movement control effective in stopping transmission?'],\n",
    "['Q: What is the role of environment in transmission?']\n",
    "]\n",
    "\n",
    "search_words=[\n",
    "['incubation','period','range'],\n",
    "['viral','shedding','duration'],\n",
    "['asymptomatic','shedding'],\n",
    "['restriction', 'movement'],\n",
    "['transmission','routes']\n",
    "]\n",
    "\n",
    "q_count=0\n",
    "\n",
    "for search_words in search_words:\n",
    "    str1=''\n",
    "    # make a string of the search words to print readable table\n",
    "    str1=''.join(questions[q_count])\n",
    "    \n",
    "    #search the dataframe for all words\n",
    "    df1=search_dataframe(df,search_words)\n",
    "\n",
    "    # analyze search results for relevance \n",
    "    df1=search_relevance(df1,search_words)\n",
    "\n",
    "    # get best sentences\n",
    "    df_table=get_sentences(df1,search_words)\n",
    "    \n",
    "    # get the length of rows\n",
    "    length=df_table.shape[0]\n",
    "    \n",
    "    #limit 3 results\n",
    "    df_table=df_table.head()\n",
    "    \n",
    "    # dropping the rel_score\n",
    "    df_table=df_table.drop(['rel_score'], axis=1)\n",
    "    \n",
    "    #convert df to html readable table\n",
    "    df_table=HTML(df_table.to_html(escape=False,index=False))\n",
    "    \n",
    "    # display the question\n",
    "    display(HTML('<br><h3>'+str1+'</h3>'))\n",
    "    \n",
    "    #display the summary\n",
    "    if length<1:\n",
    "        print (\"No reliable answer found\")\n",
    "    else:\n",
    "        display(df_table)\n",
    "    q_count=q_count+1"
   ]
  },
  {
   "cell_type": "code",
   "execution_count": null,
   "metadata": {},
   "outputs": [],
   "source": []
  }
 ],
 "metadata": {
  "kernelspec": {
   "display_name": "Python 3",
   "language": "python",
   "name": "python3"
  },
  "language_info": {
   "codemirror_mode": {
    "name": "ipython",
    "version": 3
   },
   "file_extension": ".py",
   "mimetype": "text/x-python",
   "name": "python",
   "nbconvert_exporter": "python",
   "pygments_lexer": "ipython3",
   "version": "3.6.9"
  }
 },
 "nbformat": 4,
 "nbformat_minor": 4
}
