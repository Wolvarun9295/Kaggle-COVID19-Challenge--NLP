{
 "cells": [
  {
   "cell_type": "markdown",
   "metadata": {},
   "source": [
    "### SOLUTION:\n",
    "Create an unsupervised scientific literature understanding system that can take in common terms and analyze a very large corpus of scientific papers and return highly relevant text fragments from papers containing topical data relating to the common text inputed, allowing a single researcher or small team to gather targeted information and quickly and easily locate relevant text in the scientific papers to answer important questions about the new virus from a large corpus of documents.\n",
    "\n",
    "### APPROACH: The newest implementation outlined:\n",
    "- Open the metadata CSV file in a dataframe\n",
    "- Drop the duplicates by abstract\n",
    "- Loop (comprehension) a list of lists for the keyword for searches. eg. search=[['incubation','period','range']]\n",
    "- Stem the keywords so incubation becomes incubat etc.\n",
    "- Append indpendently - different variations of corona references - (covid, cov, etc) to the keywords avoids pulling older research\n",
    "- Query function in pandas to query the above terms with the keywords - the abstract has to have all the keywords and at least one of (covid, cov, etc)\n",
    "- Drop the duplicates in the df again after the queries\n",
    "- Caclulate a relevance score for all the abstracts in the query result df\n",
    "- raw_score = total count of the keywords in the abstract\n",
    "- final_score = (raw_score/len(abstract))*raw_score\n",
    "- Sort the df on the final_score ascending=False (best on top)\n",
    "- Drop rows with a relevance score < .02\n",
    "- Parse the relevant abstarcts into sentences split('. ') works well.\n",
    "- Test if keywords are in the sentences\n",
    "- If sentence has all keywords, it is added to the df for display.\n",
    "- If you are seeking statistics in the data, adding % to the search terms works well\n",
    "- df with search results displayed in HTML - currently limiting results to 3 for ease of scanning"
   ]
  },
  {
   "cell_type": "code",
   "execution_count": 272,
   "metadata": {
    "scrolled": true
   },
   "outputs": [
    {
     "data": {
      "text/html": [
       "<style>.container { width:100% !important; }</style>"
      ],
      "text/plain": [
       "<IPython.core.display.HTML object>"
      ]
     },
     "metadata": {},
     "output_type": "display_data"
    }
   ],
   "source": [
    "# fit the notebook to browser\n",
    "from IPython.core.display import display, HTML\n",
    "display(HTML(\"<style>.container { width:100% !important; }</style>\"))"
   ]
  },
  {
   "cell_type": "code",
   "execution_count": 273,
   "metadata": {},
   "outputs": [],
   "source": [
    "# importing all necessary libraries\n",
    "import numpy as np\n",
    "import pandas as pd\n",
    "import functools\n",
    "from nltk import PorterStemmer"
   ]
  },
  {
   "cell_type": "code",
   "execution_count": 274,
   "metadata": {
    "scrolled": true
   },
   "outputs": [
    {
     "data": {
      "text/html": [
       "<div>\n",
       "<style scoped>\n",
       "    .dataframe tbody tr th:only-of-type {\n",
       "        vertical-align: middle;\n",
       "    }\n",
       "\n",
       "    .dataframe tbody tr th {\n",
       "        vertical-align: top;\n",
       "    }\n",
       "\n",
       "    .dataframe thead th {\n",
       "        text-align: right;\n",
       "    }\n",
       "</style>\n",
       "<table border=\"1\" class=\"dataframe\">\n",
       "  <thead>\n",
       "    <tr style=\"text-align: right;\">\n",
       "      <th></th>\n",
       "      <th>title</th>\n",
       "      <th>doi</th>\n",
       "      <th>abstract</th>\n",
       "      <th>publish_time</th>\n",
       "      <th>authors</th>\n",
       "      <th>journal</th>\n",
       "    </tr>\n",
       "  </thead>\n",
       "  <tbody>\n",
       "    <tr>\n",
       "      <th>0</th>\n",
       "      <td>Clinical features of culture-proven Mycoplasma...</td>\n",
       "      <td>10.1186/1471-2334-1-6</td>\n",
       "      <td>OBJECTIVE: This retrospective chart review des...</td>\n",
       "      <td>2001-07-04</td>\n",
       "      <td>Madani, Tariq A; Al-Ghamdi, Aisha A</td>\n",
       "      <td>BMC Infect Dis</td>\n",
       "    </tr>\n",
       "    <tr>\n",
       "      <th>1</th>\n",
       "      <td>Nitric oxide: a pro-inflammatory mediator in l...</td>\n",
       "      <td>10.1186/rr14</td>\n",
       "      <td>Inflammatory diseases of the respiratory tract...</td>\n",
       "      <td>2000-08-15</td>\n",
       "      <td>Vliet, Albert van der; Eiserich, Jason P; Cros...</td>\n",
       "      <td>Respir Res</td>\n",
       "    </tr>\n",
       "    <tr>\n",
       "      <th>2</th>\n",
       "      <td>Surfactant protein-D and pulmonary host defense</td>\n",
       "      <td>10.1186/rr19</td>\n",
       "      <td>Surfactant protein-D (SP-D) participates in th...</td>\n",
       "      <td>2000-08-25</td>\n",
       "      <td>Crouch, Erika C</td>\n",
       "      <td>Respir Res</td>\n",
       "    </tr>\n",
       "    <tr>\n",
       "      <th>3</th>\n",
       "      <td>Role of endothelin-1 in lung disease</td>\n",
       "      <td>10.1186/rr44</td>\n",
       "      <td>Endothelin-1 (ET-1) is a 21 amino acid peptide...</td>\n",
       "      <td>2001-02-22</td>\n",
       "      <td>Fagan, Karen A; McMurtry, Ivan F; Rodman, David M</td>\n",
       "      <td>Respir Res</td>\n",
       "    </tr>\n",
       "    <tr>\n",
       "      <th>4</th>\n",
       "      <td>Gene expression in epithelial cells in respons...</td>\n",
       "      <td>10.1186/rr61</td>\n",
       "      <td>Respiratory syncytial virus (RSV) and pneumoni...</td>\n",
       "      <td>2001-05-11</td>\n",
       "      <td>Domachowske, Joseph B; Bonville, Cynthia A; Ro...</td>\n",
       "      <td>Respir Res</td>\n",
       "    </tr>\n",
       "  </tbody>\n",
       "</table>\n",
       "</div>"
      ],
      "text/plain": [
       "                                               title                    doi  \\\n",
       "0  Clinical features of culture-proven Mycoplasma...  10.1186/1471-2334-1-6   \n",
       "1  Nitric oxide: a pro-inflammatory mediator in l...           10.1186/rr14   \n",
       "2    Surfactant protein-D and pulmonary host defense           10.1186/rr19   \n",
       "3               Role of endothelin-1 in lung disease           10.1186/rr44   \n",
       "4  Gene expression in epithelial cells in respons...           10.1186/rr61   \n",
       "\n",
       "                                            abstract publish_time  \\\n",
       "0  OBJECTIVE: This retrospective chart review des...   2001-07-04   \n",
       "1  Inflammatory diseases of the respiratory tract...   2000-08-15   \n",
       "2  Surfactant protein-D (SP-D) participates in th...   2000-08-25   \n",
       "3  Endothelin-1 (ET-1) is a 21 amino acid peptide...   2001-02-22   \n",
       "4  Respiratory syncytial virus (RSV) and pneumoni...   2001-05-11   \n",
       "\n",
       "                                             authors         journal  \n",
       "0                Madani, Tariq A; Al-Ghamdi, Aisha A  BMC Infect Dis  \n",
       "1  Vliet, Albert van der; Eiserich, Jason P; Cros...      Respir Res  \n",
       "2                                    Crouch, Erika C      Respir Res  \n",
       "3  Fagan, Karen A; McMurtry, Ivan F; Rodman, David M      Respir Res  \n",
       "4  Domachowske, Joseph B; Bonville, Cynthia A; Ro...      Respir Res  "
      ]
     },
     "execution_count": 274,
     "metadata": {},
     "output_type": "execute_result"
    }
   ],
   "source": [
    "# avoiding error while printing output\n",
    "pd.options.mode.chained_assignment = None\n",
    "\n",
    "# reading metadata.csv\n",
    "df=pd.read_csv(\"/home/varun_nagrare/2020-08-03/metadata.csv\", low_memory=False, usecols=['title','journal','abstract','authors','doi','publish_time'])\n",
    "df.head()"
   ]
  },
  {
   "cell_type": "code",
   "execution_count": 275,
   "metadata": {},
   "outputs": [],
   "source": [
    "# keep only documents with covid alternate names\n",
    "def search_focus(df):\n",
    "    dfa = df[df['abstract'].str.contains('covid')]\n",
    "    dfb = df[df['abstract'].str.contains('-cov-2')]\n",
    "    dfc = df[df['abstract'].str.contains('cov2')]\n",
    "    dfd = df[df['abstract'].str.contains('ncov')]\n",
    "    dfe = df[df['abstract'].str.contains('coronavirus')]\n",
    "    dff = df[df['abstract'].str.contains('sars-cov-2')]\n",
    "    \n",
    "    frames=[dfa,dfb,dfc,dfd,dfe,dff]\n",
    "    df = pd.concat(frames)\n",
    "    df=df.drop_duplicates(subset='title', keep=\"first\")\n",
    "    return df"
   ]
  },
  {
   "cell_type": "code",
   "execution_count": 276,
   "metadata": {},
   "outputs": [
    {
     "name": "stdout",
     "output_type": "stream",
     "text": [
      "(207311, 6)\n"
     ]
    }
   ],
   "source": [
    "print (df.shape)\n",
    "\n",
    "#drop duplicates\n",
    "df=df.drop_duplicates()\n",
    "\n",
    "#drop NANs \n",
    "df=df.fillna(\"no data \")\n",
    "\n",
    "# drop duplicates keeping the first occurence\n",
    "df=df.drop_duplicates(subset='title', keep=\"first\")\n",
    "\n",
    "# finding publish_time which contains year 2019 and 2020\n",
    "df=df[df['publish_time'].str.contains('2019', case=False, regex=False) | df['publish_time'].str.contains('2020', case=False, regex=False)]"
   ]
  },
  {
   "cell_type": "code",
   "execution_count": 277,
   "metadata": {},
   "outputs": [
    {
     "data": {
      "text/html": [
       "<div>\n",
       "<style scoped>\n",
       "    .dataframe tbody tr th:only-of-type {\n",
       "        vertical-align: middle;\n",
       "    }\n",
       "\n",
       "    .dataframe tbody tr th {\n",
       "        vertical-align: top;\n",
       "    }\n",
       "\n",
       "    .dataframe thead th {\n",
       "        text-align: right;\n",
       "    }\n",
       "</style>\n",
       "<table border=\"1\" class=\"dataframe\">\n",
       "  <thead>\n",
       "    <tr style=\"text-align: right;\">\n",
       "      <th></th>\n",
       "      <th>title</th>\n",
       "      <th>doi</th>\n",
       "      <th>abstract</th>\n",
       "      <th>publish_time</th>\n",
       "      <th>authors</th>\n",
       "      <th>journal</th>\n",
       "    </tr>\n",
       "  </thead>\n",
       "  <tbody>\n",
       "    <tr>\n",
       "      <th>3502</th>\n",
       "      <td>Human rhinovirus spatial-temporal epidemiology...</td>\n",
       "      <td>10.12688/wellcomeopenres.14836.2</td>\n",
       "      <td>Background: Human rhinovirus (HRV) is the pred...</td>\n",
       "      <td>2019-03-27</td>\n",
       "      <td>Morobe, John Mwita; Nyiro, Joyce U.; Brand, Sa...</td>\n",
       "      <td>Wellcome Open Res</td>\n",
       "    </tr>\n",
       "    <tr>\n",
       "      <th>3587</th>\n",
       "      <td>Multiple Introductions of Domestic Cat Feline ...</td>\n",
       "      <td>10.3201/eid2501.181347</td>\n",
       "      <td>The endangered Florida panther (Puma concolor ...</td>\n",
       "      <td>2019-01-03</td>\n",
       "      <td>Chiu, Elliott S.; Kraberger, Simona; Cunningha...</td>\n",
       "      <td>Emerg Infect Dis</td>\n",
       "    </tr>\n",
       "    <tr>\n",
       "      <th>3606</th>\n",
       "      <td>Impact of glucose-6-phosphate dehydrogenase de...</td>\n",
       "      <td>10.1371/journal.pone.0209204</td>\n",
       "      <td>Glucose-6-phosphate dehydrogenase (G6PD) defic...</td>\n",
       "      <td>2019-01-02</td>\n",
       "      <td>May, Win Lai; Kyaw, Myat Phone; Blacksell, Stu...</td>\n",
       "      <td>PLoS One</td>\n",
       "    </tr>\n",
       "    <tr>\n",
       "      <th>3618</th>\n",
       "      <td>Improvement in the survival rates of extracorp...</td>\n",
       "      <td>10.1186/s13054-018-2293-5</td>\n",
       "      <td>BACKGROUND: Although the utilization of extrac...</td>\n",
       "      <td>2019-01-03</td>\n",
       "      <td>Baek, Moon Seong; Lee, Sang-Min; Chung, Chi Ry...</td>\n",
       "      <td>Crit Care</td>\n",
       "    </tr>\n",
       "    <tr>\n",
       "      <th>3619</th>\n",
       "      <td>Mental health workers perceptions of disaster ...</td>\n",
       "      <td>10.1186/s12889-018-6313-9</td>\n",
       "      <td>BACKGROUND: The post-disaster mental health cr...</td>\n",
       "      <td>2019-01-03</td>\n",
       "      <td>Xi, Yingjun; Chen, Runsen; Gillespie, Amy L.; ...</td>\n",
       "      <td>BMC Public Health</td>\n",
       "    </tr>\n",
       "  </tbody>\n",
       "</table>\n",
       "</div>"
      ],
      "text/plain": [
       "                                                  title  \\\n",
       "3502  Human rhinovirus spatial-temporal epidemiology...   \n",
       "3587  Multiple Introductions of Domestic Cat Feline ...   \n",
       "3606  Impact of glucose-6-phosphate dehydrogenase de...   \n",
       "3618  Improvement in the survival rates of extracorp...   \n",
       "3619  Mental health workers perceptions of disaster ...   \n",
       "\n",
       "                                   doi  \\\n",
       "3502  10.12688/wellcomeopenres.14836.2   \n",
       "3587            10.3201/eid2501.181347   \n",
       "3606      10.1371/journal.pone.0209204   \n",
       "3618         10.1186/s13054-018-2293-5   \n",
       "3619         10.1186/s12889-018-6313-9   \n",
       "\n",
       "                                               abstract publish_time  \\\n",
       "3502  Background: Human rhinovirus (HRV) is the pred...   2019-03-27   \n",
       "3587  The endangered Florida panther (Puma concolor ...   2019-01-03   \n",
       "3606  Glucose-6-phosphate dehydrogenase (G6PD) defic...   2019-01-02   \n",
       "3618  BACKGROUND: Although the utilization of extrac...   2019-01-03   \n",
       "3619  BACKGROUND: The post-disaster mental health cr...   2019-01-03   \n",
       "\n",
       "                                                authors            journal  \n",
       "3502  Morobe, John Mwita; Nyiro, Joyce U.; Brand, Sa...  Wellcome Open Res  \n",
       "3587  Chiu, Elliott S.; Kraberger, Simona; Cunningha...   Emerg Infect Dis  \n",
       "3606  May, Win Lai; Kyaw, Myat Phone; Blacksell, Stu...           PLoS One  \n",
       "3618  Baek, Moon Seong; Lee, Sang-Min; Chung, Chi Ry...          Crit Care  \n",
       "3619  Xi, Yingjun; Chen, Runsen; Gillespie, Amy L.; ...  BMC Public Health  "
      ]
     },
     "execution_count": 277,
     "metadata": {},
     "output_type": "execute_result"
    }
   ],
   "source": [
    "# checking if data is fetched as intended\n",
    "df.head()"
   ]
  },
  {
   "cell_type": "code",
   "execution_count": 278,
   "metadata": {},
   "outputs": [
    {
     "data": {
      "text/html": [
       "<div>\n",
       "<style scoped>\n",
       "    .dataframe tbody tr th:only-of-type {\n",
       "        vertical-align: middle;\n",
       "    }\n",
       "\n",
       "    .dataframe tbody tr th {\n",
       "        vertical-align: top;\n",
       "    }\n",
       "\n",
       "    .dataframe thead th {\n",
       "        text-align: right;\n",
       "    }\n",
       "</style>\n",
       "<table border=\"1\" class=\"dataframe\">\n",
       "  <thead>\n",
       "    <tr style=\"text-align: right;\">\n",
       "      <th></th>\n",
       "      <th>title</th>\n",
       "      <th>doi</th>\n",
       "      <th>abstract</th>\n",
       "      <th>publish_time</th>\n",
       "      <th>authors</th>\n",
       "      <th>journal</th>\n",
       "    </tr>\n",
       "  </thead>\n",
       "  <tbody>\n",
       "    <tr>\n",
       "      <th>207295</th>\n",
       "      <td>Impact of COVID‐19 on the mental health of sur...</td>\n",
       "      <td>10.1002/hed.26291</td>\n",
       "      <td>Unprecedented times call for extraordinary mea...</td>\n",
       "      <td>2020-05-28</td>\n",
       "      <td>Balasubramanian, Anusha; Paleri, Vigneshwar; B...</td>\n",
       "      <td>Head Neck</td>\n",
       "    </tr>\n",
       "    <tr>\n",
       "      <th>207301</th>\n",
       "      <td>Assessment of COVID-19 Waste Flows During the ...</td>\n",
       "      <td>10.3390/ijerph17155439</td>\n",
       "      <td>This paper provides a rapid assessment method ...</td>\n",
       "      <td>2020</td>\n",
       "      <td>Mihai, Florin-Constantin</td>\n",
       "      <td>Int. J. Environ. Res. Public Health</td>\n",
       "    </tr>\n",
       "    <tr>\n",
       "      <th>207303</th>\n",
       "      <td>Extended use of face masks during the COVID-19...</td>\n",
       "      <td>10.1016/j.polymdegradstab.2020.109251</td>\n",
       "      <td>The current COVID-19 pandemic has resulted in ...</td>\n",
       "      <td>2020-06-04</td>\n",
       "      <td>Celina, Mathew; Martinez, Estevan; Omana, Mich...</td>\n",
       "      <td>Polym Degrad Stab</td>\n",
       "    </tr>\n",
       "    <tr>\n",
       "      <th>207304</th>\n",
       "      <td>Containment of future waves of COVID-19: simul...</td>\n",
       "      <td>10.1101/2020.06.05.20123372</td>\n",
       "      <td>We used multi-agent simulations to estimate th...</td>\n",
       "      <td>2020-06-07</td>\n",
       "      <td>Fiore, Vincenzo G.; DeFelice, Nicholas; Glicks...</td>\n",
       "      <td>medRxiv</td>\n",
       "    </tr>\n",
       "    <tr>\n",
       "      <th>207309</th>\n",
       "      <td>Examining Social Determinants of Health, Stigm...</td>\n",
       "      <td>10.3390/healthcare8020168</td>\n",
       "      <td>There is growing attention to disparities in t...</td>\n",
       "      <td>2020-06-12</td>\n",
       "      <td>Turner-Musa, Jocelyn; Ajayi, Oluwatoyin; Kemp,...</td>\n",
       "      <td>Healthcare (Basel)</td>\n",
       "    </tr>\n",
       "  </tbody>\n",
       "</table>\n",
       "</div>"
      ],
      "text/plain": [
       "                                                    title  \\\n",
       "207295  Impact of COVID‐19 on the mental health of sur...   \n",
       "207301  Assessment of COVID-19 Waste Flows During the ...   \n",
       "207303  Extended use of face masks during the COVID-19...   \n",
       "207304  Containment of future waves of COVID-19: simul...   \n",
       "207309  Examining Social Determinants of Health, Stigm...   \n",
       "\n",
       "                                          doi  \\\n",
       "207295                      10.1002/hed.26291   \n",
       "207301                 10.3390/ijerph17155439   \n",
       "207303  10.1016/j.polymdegradstab.2020.109251   \n",
       "207304            10.1101/2020.06.05.20123372   \n",
       "207309              10.3390/healthcare8020168   \n",
       "\n",
       "                                                 abstract publish_time  \\\n",
       "207295  Unprecedented times call for extraordinary mea...   2020-05-28   \n",
       "207301  This paper provides a rapid assessment method ...         2020   \n",
       "207303  The current COVID-19 pandemic has resulted in ...   2020-06-04   \n",
       "207304  We used multi-agent simulations to estimate th...   2020-06-07   \n",
       "207309  There is growing attention to disparities in t...   2020-06-12   \n",
       "\n",
       "                                                  authors  \\\n",
       "207295  Balasubramanian, Anusha; Paleri, Vigneshwar; B...   \n",
       "207301                           Mihai, Florin-Constantin   \n",
       "207303  Celina, Mathew; Martinez, Estevan; Omana, Mich...   \n",
       "207304  Fiore, Vincenzo G.; DeFelice, Nicholas; Glicks...   \n",
       "207309  Turner-Musa, Jocelyn; Ajayi, Oluwatoyin; Kemp,...   \n",
       "\n",
       "                                    journal  \n",
       "207295                            Head Neck  \n",
       "207301  Int. J. Environ. Res. Public Health  \n",
       "207303                    Polym Degrad Stab  \n",
       "207304                              medRxiv  \n",
       "207309                   Healthcare (Basel)  "
      ]
     },
     "execution_count": 278,
     "metadata": {},
     "output_type": "execute_result"
    }
   ],
   "source": [
    "# checking if data is fetched as intended\n",
    "df.tail()"
   ]
  },
  {
   "cell_type": "code",
   "execution_count": 279,
   "metadata": {},
   "outputs": [
    {
     "name": "stdout",
     "output_type": "stream",
     "text": [
      "(72535, 6)\n"
     ]
    },
    {
     "data": {
      "text/html": [
       "<div>\n",
       "<style scoped>\n",
       "    .dataframe tbody tr th:only-of-type {\n",
       "        vertical-align: middle;\n",
       "    }\n",
       "\n",
       "    .dataframe tbody tr th {\n",
       "        vertical-align: top;\n",
       "    }\n",
       "\n",
       "    .dataframe thead th {\n",
       "        text-align: right;\n",
       "    }\n",
       "</style>\n",
       "<table border=\"1\" class=\"dataframe\">\n",
       "  <thead>\n",
       "    <tr style=\"text-align: right;\">\n",
       "      <th></th>\n",
       "      <th>title</th>\n",
       "      <th>doi</th>\n",
       "      <th>abstract</th>\n",
       "      <th>publish_time</th>\n",
       "      <th>authors</th>\n",
       "      <th>journal</th>\n",
       "    </tr>\n",
       "  </thead>\n",
       "  <tbody>\n",
       "    <tr>\n",
       "      <th>4662</th>\n",
       "      <td>Latest assessment on COVID-19 from the Europea...</td>\n",
       "      <td>10.2807/1560-7917.es.2020.25.8.2002271</td>\n",
       "      <td>no data latest assessment on covid-19 from the...</td>\n",
       "      <td>2020-02-27</td>\n",
       "      <td>no data</td>\n",
       "      <td>Euro Surveill</td>\n",
       "    </tr>\n",
       "    <tr>\n",
       "      <th>4698</th>\n",
       "      <td>Updated rapid risk assessment from ECDC on the...</td>\n",
       "      <td>10.2807/1560-7917.es.2020.25.9.2003051</td>\n",
       "      <td>no data updated rapid risk assessment from ecd...</td>\n",
       "      <td>2020-03-05</td>\n",
       "      <td>no data</td>\n",
       "      <td>Euro Surveill</td>\n",
       "    </tr>\n",
       "    <tr>\n",
       "      <th>4732</th>\n",
       "      <td>Updated rapid risk assessment from ECDC on the...</td>\n",
       "      <td>10.2807/1560-7917.es.2020.25.10.2003121</td>\n",
       "      <td>no data updated rapid risk assessment from ecd...</td>\n",
       "      <td>2020-03-12</td>\n",
       "      <td>no data</td>\n",
       "      <td>Euro Surveill</td>\n",
       "    </tr>\n",
       "    <tr>\n",
       "      <th>4800</th>\n",
       "      <td>Empfehlungen zur intensivmedizinischen Therapi...</td>\n",
       "      <td>10.1007/s00063-020-00674-3</td>\n",
       "      <td>no data empfehlungen zur intensivmedizinischen...</td>\n",
       "      <td>2020-03-12</td>\n",
       "      <td>Kluge, Stefan; Janssens, Uwe; Welte, Tobias; W...</td>\n",
       "      <td>Med Klin Intensivmed Notfmed</td>\n",
       "    </tr>\n",
       "    <tr>\n",
       "      <th>5683</th>\n",
       "      <td>The impact of COVID-19 on the provision of don...</td>\n",
       "      <td>10.1038/s41409-020-0873-x</td>\n",
       "      <td>no data the impact of covid-19 on the provisio...</td>\n",
       "      <td>2020-03-23</td>\n",
       "      <td>Szer, Jeff; Weisdorf, Daniel; Querol, Sergio; ...</td>\n",
       "      <td>Bone Marrow Transplant</td>\n",
       "    </tr>\n",
       "  </tbody>\n",
       "</table>\n",
       "</div>"
      ],
      "text/plain": [
       "                                                  title  \\\n",
       "4662  Latest assessment on COVID-19 from the Europea...   \n",
       "4698  Updated rapid risk assessment from ECDC on the...   \n",
       "4732  Updated rapid risk assessment from ECDC on the...   \n",
       "4800  Empfehlungen zur intensivmedizinischen Therapi...   \n",
       "5683  The impact of COVID-19 on the provision of don...   \n",
       "\n",
       "                                          doi  \\\n",
       "4662   10.2807/1560-7917.es.2020.25.8.2002271   \n",
       "4698   10.2807/1560-7917.es.2020.25.9.2003051   \n",
       "4732  10.2807/1560-7917.es.2020.25.10.2003121   \n",
       "4800               10.1007/s00063-020-00674-3   \n",
       "5683                10.1038/s41409-020-0873-x   \n",
       "\n",
       "                                               abstract publish_time  \\\n",
       "4662  no data latest assessment on covid-19 from the...   2020-02-27   \n",
       "4698  no data updated rapid risk assessment from ecd...   2020-03-05   \n",
       "4732  no data updated rapid risk assessment from ecd...   2020-03-12   \n",
       "4800  no data empfehlungen zur intensivmedizinischen...   2020-03-12   \n",
       "5683  no data the impact of covid-19 on the provisio...   2020-03-23   \n",
       "\n",
       "                                                authors  \\\n",
       "4662                                           no data    \n",
       "4698                                           no data    \n",
       "4732                                           no data    \n",
       "4800  Kluge, Stefan; Janssens, Uwe; Welte, Tobias; W...   \n",
       "5683  Szer, Jeff; Weisdorf, Daniel; Querol, Sergio; ...   \n",
       "\n",
       "                           journal  \n",
       "4662                 Euro Surveill  \n",
       "4698                 Euro Surveill  \n",
       "4732                 Euro Surveill  \n",
       "4800  Med Klin Intensivmed Notfmed  \n",
       "5683        Bone Marrow Transplant  "
      ]
     },
     "execution_count": 279,
     "metadata": {},
     "output_type": "execute_result"
    }
   ],
   "source": [
    "# convert abstracts to lowercase\n",
    "df[\"abstract\"] = df[\"abstract\"].str.lower()+df[\"title\"].str.lower()\n",
    "\n",
    "#show 5 lines of the new dataframe\n",
    "df=search_focus(df)\n",
    "\n",
    "print(df.shape)\n",
    "\n",
    "df.head()"
   ]
  },
  {
   "cell_type": "code",
   "execution_count": 280,
   "metadata": {},
   "outputs": [],
   "source": [
    "# function to find the root word of search_words\n",
    "def stem_words(search_words):\n",
    "    stemmer = PorterStemmer()\n",
    "    singles=[]\n",
    "    for w in search_words:\n",
    "        singles.append(stemmer.stem(w))\n",
    "    return singles"
   ]
  },
  {
   "cell_type": "code",
   "execution_count": 281,
   "metadata": {},
   "outputs": [],
   "source": [
    "# function to find exact words\n",
    "def search_dataframe(df,search_words):\n",
    "    search_words=stem_words(search_words)\n",
    "    df1=df[functools.reduce(lambda a, b: a&b, (df['abstract'].str.contains(s) for s in search_words))]\n",
    "    return df1"
   ]
  },
  {
   "cell_type": "code",
   "execution_count": 282,
   "metadata": {},
   "outputs": [],
   "source": [
    "# function analyze search results for relevance with word count or abstract length\n",
    "def search_relevance(rel_df,search_words):\n",
    "    rel_df['score']=\"\"\n",
    "    search_words=stem_words(search_words)\n",
    "    for index, row in rel_df.iterrows():\n",
    "        abstract = row['abstract']\n",
    "        result = abstract.split()\n",
    "        len_abstract=len(result)\n",
    "        score=0\n",
    "        for word in search_words:\n",
    "            score=score+result.count(word)\n",
    "        final_score=(score/len_abstract)\n",
    "        rel_score=score*final_score\n",
    "        rel_df.loc[index, 'score'] = rel_score\n",
    "    rel_df=rel_df.sort_values(by=['score'], ascending=False)\n",
    "    return rel_df"
   ]
  },
  {
   "cell_type": "code",
   "execution_count": 283,
   "metadata": {},
   "outputs": [],
   "source": [
    "# function to get best sentences from the search results\n",
    "def get_sentences(df1,search_words):\n",
    "    # create a new dataframe\n",
    "    df_table = pd.DataFrame(columns = [\"pub_date\",\"authors\",\"title\",\"fragment\",\"rel_score\"])\n",
    "    search_words=stem_words(search_words)\n",
    "    \n",
    "    for index, row in df1.iterrows():\n",
    "        pub_sentence=''\n",
    "        sentences_used=0\n",
    "        #break apart the absracrt to sentence level\n",
    "        sentences = row['abstract'].split('. ')\n",
    "        \n",
    "        #loop through the sentences of the abstract\n",
    "        for sentence in sentences:\n",
    "            # missing lets the system know if all the words are in the sentence\n",
    "            missing=0\n",
    "            #loop through the words of sentence\n",
    "            for word in search_words:\n",
    "                #if keyword missing change missing variable\n",
    "                if word not in sentence:\n",
    "                    missing=1\n",
    "                \n",
    "                #if '%' in sentence:\n",
    "                    #missing=missing-1\n",
    "            # after all sentences processed show the sentences not missing keywords\n",
    "            if missing==0 and len(sentence)<1000 and sentence!='':\n",
    "                sentence=sentence.capitalize()\n",
    "                if sentence[len(sentence)-1]!='.':\n",
    "                    sentence=sentence+'.'\n",
    "                pub_sentence=pub_sentence+'<br><br>'+sentence\n",
    "        \n",
    "        if pub_sentence!='':\n",
    "            sentence=pub_sentence\n",
    "            sentences_used=sentences_used+1\n",
    "            authors=row[\"authors\"].split(\" \")\n",
    "            link=row['doi']\n",
    "            title=row[\"title\"]\n",
    "            score=row[\"score\"]\n",
    "            linka='https://doi.org/'+link\n",
    "            linkb=title\n",
    "            sentence='<p fontsize=tiny\" align=\"left\">'+sentence+'</p>'\n",
    "            final_link='<p align=\"left\"><a href=\"{}\">{}</a></p>'.format(linka,linkb)\n",
    "            to_append = [row['publish_time'],authors[0]+' and others.',final_link,sentence,score]\n",
    "            df_length = len(df_table)\n",
    "            df_table.loc[df_length] = to_append\n",
    "    return df_table"
   ]
  },
  {
   "cell_type": "markdown",
   "metadata": {},
   "source": [
    "# What is known about transmission, incubation, and environmental stability?"
   ]
  },
  {
   "cell_type": "code",
   "execution_count": 284,
   "metadata": {
    "scrolled": false
   },
   "outputs": [
    {
     "data": {
      "text/html": [
       "<br><h3>Q: What is the range of incubation periods for the disease in humans?</h3>"
      ],
      "text/plain": [
       "<IPython.core.display.HTML object>"
      ]
     },
     "metadata": {},
     "output_type": "display_data"
    },
    {
     "data": {
      "text/html": [
       "<table border=\"1\" class=\"dataframe\">\n",
       "  <thead>\n",
       "    <tr style=\"text-align: right;\">\n",
       "      <th>pub_date</th>\n",
       "      <th>authors</th>\n",
       "      <th>title</th>\n",
       "      <th>fragment</th>\n",
       "    </tr>\n",
       "  </thead>\n",
       "  <tbody>\n",
       "    <tr>\n",
       "      <td>2020-03-18</td>\n",
       "      <td>Jiang, and others.</td>\n",
       "      <td><p align=\"left\"><a href=\"https://doi.org/10.1101/2020.03.15.20036533\">Is a 14-day quarantine period optimal for effectively controlling coronavirus disease 2019 (COVID-19)?</a></p></td>\n",
       "      <td><p fontsize=tiny\" align=\"left\"><br><br>Results the full range of incubation periods of the covid-19 cases ranged from 0 to 33 days among 2015 cases.</p></td>\n",
       "    </tr>\n",
       "    <tr>\n",
       "      <td>2020-05-15</td>\n",
       "      <td>Bui, and others.</td>\n",
       "      <td><p align=\"left\"><a href=\"https://doi.org/10.1101/2020.05.09.20096800\">Estimation of the incubation period of SARS-CoV-2 in Vietnam</a></p></td>\n",
       "      <td><p fontsize=tiny\" align=\"left\"><br><br>Average incubation periods estimated using different distribution model ranged from 6.0 days to 6.4 days with the weibull distribution demonstrated the best fit to the data.<br><br>The estimated mean of incubation period using weibull distribution model was 6.4 days (95% credible interval (ci): 4.89 - 8.5), standard deviation (sd) was 3.05 (95%ci 3.05 - 5.30), median was 5.6, ranges from 1.35 to 13.04 days (2.5th to 97.5th percentiles).</p></td>\n",
       "    </tr>\n",
       "    <tr>\n",
       "      <td>2020-03-08</td>\n",
       "      <td>Xia, and others.</td>\n",
       "      <td><p align=\"left\"><a href=\"https://doi.org/10.1101/2020.03.06.20031955\">Transmission of corona virus disease 2019 during the incubation period may lead to a quarantine loophole</a></p></td>\n",
       "      <td><p fontsize=tiny\" align=\"left\"><br><br>Results: the estimated mean incubation period for covid-19 was 4.9 days (95% confidence interval [ci], 4.4 to 5.4) days, ranging from 0.8 to 11.1 days (2.5th to 97.5th percentile).</p></td>\n",
       "    </tr>\n",
       "    <tr>\n",
       "      <td>2020</td>\n",
       "      <td>Yang, and others.</td>\n",
       "      <td><p align=\"left\"><a href=\"https://doi.org/no data \">Estimation of incubation period and serial interval of COVID-19: analysis of 178 cases and 131 transmission chains in Hubei province, China</a></p></td>\n",
       "      <td><p fontsize=tiny\" align=\"left\"><br><br>Our estimated median incubation period of covid-19 is 5.4 days (bootstrapped 95% confidence interval (ci) 4.8-6.0), and the 2.5th and 97.5th percentiles are 1 and 15 days, respectively; while the estimated serial interval of covid-19 falls within the range of -4 to 13 days with 95% confidence and has a median of 4.6 days (95% ci 3.7-5.5).</p></td>\n",
       "    </tr>\n",
       "    <tr>\n",
       "      <td>2020</td>\n",
       "      <td>Yang, and others.</td>\n",
       "      <td><p align=\"left\"><a href=\"https://doi.org/no data \">[The preliminary analysis on the characteristics of the cluster for the COVID-19]</a></p></td>\n",
       "      <td><p fontsize=tiny\" align=\"left\"><br><br>We selected 325 cases to estimate the incubation period and its range was 1 to 20 days, median was 7 days, and mode was 4 days.</p></td>\n",
       "    </tr>\n",
       "  </tbody>\n",
       "</table>"
      ],
      "text/plain": [
       "<IPython.core.display.HTML object>"
      ]
     },
     "metadata": {},
     "output_type": "display_data"
    },
    {
     "data": {
      "text/html": [
       "<br><h3>Q: How long are individuals contagious?</h3>"
      ],
      "text/plain": [
       "<IPython.core.display.HTML object>"
      ]
     },
     "metadata": {},
     "output_type": "display_data"
    },
    {
     "data": {
      "text/html": [
       "<table border=\"1\" class=\"dataframe\">\n",
       "  <thead>\n",
       "    <tr style=\"text-align: right;\">\n",
       "      <th>pub_date</th>\n",
       "      <th>authors</th>\n",
       "      <th>title</th>\n",
       "      <th>fragment</th>\n",
       "    </tr>\n",
       "  </thead>\n",
       "  <tbody>\n",
       "    <tr>\n",
       "      <td>2020-05-23</td>\n",
       "      <td>Weiss, and others.</td>\n",
       "      <td><p align=\"left\"><a href=\"https://doi.org/10.1101/2020.05.21.20108605\">Spatial and temporal dynamics of SARS-CoV-2 in COVID-19 patients: A systematic review</a></p></td>\n",
       "      <td><p fontsize=tiny\" align=\"left\"><br><br>In this study, we aimed to provide a coherent overview from published studies of the duration of viral detection and viral load in covid-19 patients, stratified by specimen type, clinical severity and age.</p></td>\n",
       "    </tr>\n",
       "    <tr>\n",
       "      <td>2020</td>\n",
       "      <td>Dodds, and others.</td>\n",
       "      <td><p align=\"left\"><a href=\"https://doi.org/no data \">Model-Informed Drug Repurposing: Viral Kinetic Modeling to Prioritize Rational Drug Combinations for COVID-19</a></p></td>\n",
       "      <td><p fontsize=tiny\" align=\"left\"><br><br>The endpoints and metrics included viral load area under the curve (auc), duration of viral shedding, and epithelial cells infected.<br><br>In addition, we observed that the time-window opportunity for a therapeutic intervention to effect duration of viral shedding exceeds the effect on sparing epithelial cells from infection or impact on viral load auc.</p></td>\n",
       "    </tr>\n",
       "    <tr>\n",
       "      <td>2020-07-21</td>\n",
       "      <td>Dodds, and others.</td>\n",
       "      <td><p align=\"left\"><a href=\"https://doi.org/10.1111/bcp.14486\">Model-Informed Drug Repurposing: Viral Kinetic Modeling to Prioritize Rational Drug Combinations for COVID-19.</a></p></td>\n",
       "      <td><p fontsize=tiny\" align=\"left\"><br><br>The endpoints and metrics included viral load area under the curve (auc), duration of viral shedding, and epithelial cells infected.<br><br>In addition, we observed that the time-window opportunity for a therapeutic intervention to effect duration of viral shedding exceeds the effect on sparing epithelial cells from infection or impact on viral load auc.</p></td>\n",
       "    </tr>\n",
       "    <tr>\n",
       "      <td>2020-07-30</td>\n",
       "      <td>Park, and others.</td>\n",
       "      <td><p align=\"left\"><a href=\"https://doi.org/10.1101/2020.07.28.20163873\">Determining the period of communicability of SARS-CoV-2: A rapid review of the literature</a></p></td>\n",
       "      <td><p fontsize=tiny\" align=\"left\"><br><br>Methods: studies reporting empirical data on the period of communicability of sars-cov-2 through investigations of duration of communicability based on in-person contact ('contact transmission'), isolation and culture of virus ('viral isolation'), and viral shedding by detection of nucleic acids by rt-pcr ('viral shedding') were identified through searches of peer-reviewed and pre-print health sciences literature databases (ovid medline, embase, google scholar, medrxiv and arxiv) and the grey literature.</p></td>\n",
       "    </tr>\n",
       "    <tr>\n",
       "      <td>2020-07-28</td>\n",
       "      <td>Cevik, and others.</td>\n",
       "      <td><p align=\"left\"><a href=\"https://doi.org/10.1101/2020.07.25.20162107\">SARS-CoV-2 viral load dynamics, duration of viral shedding and infectiousness: a living systematic review and meta-analysis</a></p></td>\n",
       "      <td><p fontsize=tiny\" align=\"left\"><br><br>Background viral load kinetics and the duration of viral shedding are important determinants for disease transmission.<br><br>We aim i) to characterise viral load dynamics, duration of viral rna, and viable virus shedding of sars-cov-2 in various body fluids and ii) to compare sars-cov-2 viral dynamics with sars-cov-1 and mers-cov.<br><br>Methods: medline, embase, europe pmc, preprint servers and grey literature were searched to retrieve all articles reporting viral dynamics and duration of sars-cov-2, sars-cov-1 and mers-cov shedding.<br><br>Funding: no funding was received.sars-cov-2 viral load dynamics, duration of viral shedding and infectiousness: a living systematic review and meta-analysis.</p></td>\n",
       "    </tr>\n",
       "  </tbody>\n",
       "</table>"
      ],
      "text/plain": [
       "<IPython.core.display.HTML object>"
      ]
     },
     "metadata": {},
     "output_type": "display_data"
    },
    {
     "data": {
      "text/html": [
       "<br><h3>Q: How long are individuals contagious, even after recovery.</h3>"
      ],
      "text/plain": [
       "<IPython.core.display.HTML object>"
      ]
     },
     "metadata": {},
     "output_type": "display_data"
    },
    {
     "data": {
      "text/html": [
       "<table border=\"1\" class=\"dataframe\">\n",
       "  <thead>\n",
       "    <tr style=\"text-align: right;\">\n",
       "      <th>pub_date</th>\n",
       "      <th>authors</th>\n",
       "      <th>title</th>\n",
       "      <th>fragment</th>\n",
       "    </tr>\n",
       "  </thead>\n",
       "  <tbody>\n",
       "    <tr>\n",
       "      <td>2020-03-31</td>\n",
       "      <td>Abduljalil, and others.</td>\n",
       "      <td><p align=\"left\"><a href=\"https://doi.org/10.1016/j.nmni.2020.100672\">Epidemiology, genome, and clinical features of the pandemic SARS-CoV-2: a recent view</a></p></td>\n",
       "      <td><p fontsize=tiny\" align=\"left\"><br><br>Asymptomatic carrier state is of paramount importance because of carriers' ability to spread the infection and to shed the virus into the air and surroundings.</p></td>\n",
       "    </tr>\n",
       "    <tr>\n",
       "      <td>2020</td>\n",
       "      <td>Li, and others.</td>\n",
       "      <td><p align=\"left\"><a href=\"https://doi.org/no data \">Viral shedding dynamics in asymptomatic and mildly symptomatic patients infected with SARS-CoV-2</a></p></td>\n",
       "      <td><p fontsize=tiny\" align=\"left\"><br><br>The median duration of viral shedding was 11.5, 28 and 31 days for pre-symptomatic, asymptomatic and mild symptomatic patients, separately.<br><br>Conclusions: long-term viral shedding was presented in patients with mild symptoms and asymptomatic cases, and specific antibody production to sars-cov-2 may not guarantee viral clearance after discharge.<br><br>These observations should be considered when making decisions regarding clinical and public health and strategies for prevention and control of sars-cov-2 infection.viral shedding dynamics in asymptomatic and mildly symptomatic patients infected with sars-cov-2.</p></td>\n",
       "    </tr>\n",
       "    <tr>\n",
       "      <td>2020</td>\n",
       "      <td>Matava, and others.</td>\n",
       "      <td><p align=\"left\"><a href=\"https://doi.org/no data \">Pediatric Airway Management in COVID-19 Patients: Consensus Guidelines From the Society for Pediatric Anesthesia's Pediatric Difficult Intubation Collaborative and the Canadian Pediatric Anesthesia Society</a></p></td>\n",
       "      <td><p fontsize=tiny\" align=\"left\"><br><br>Pedi-c identified overarching goals during care, including minimizing aerosolized respiratory secretions, minimizing the number of clinicians in contact with a patient, and recognizing that undiagnosed asymptomatic patients may shed the virus and infect health care workers.</p></td>\n",
       "    </tr>\n",
       "    <tr>\n",
       "      <td>2020-04-20</td>\n",
       "      <td>Matava, and others.</td>\n",
       "      <td><p align=\"left\"><a href=\"https://doi.org/10.1213/ane.0000000000004872\">Pediatric Airway Management in Coronavirus Disease 2019 Patients: Consensus Guidelines From the Society for Pediatric Anesthesia’s Pediatric Difficult Intubation Collaborative and the Canadian Pediatric Anesthesia Society</a></p></td>\n",
       "      <td><p fontsize=tiny\" align=\"left\"><br><br>Pedi-c identified overarching goals during care, including minimizing aerosolized respiratory secretions, minimizing the number of clinicians in contact with a patient, and recognizing that undiagnosed asymptomatic patients may shed the virus and infect health care workers.</p></td>\n",
       "    </tr>\n",
       "    <tr>\n",
       "      <td>2020-05-25</td>\n",
       "      <td>Beggs, and others.</td>\n",
       "      <td><p align=\"left\"><a href=\"https://doi.org/10.1101/2020.05.22.20109991\">Is there an airborne component to the transmission of COVID-19? : a quantitative analysis study</a></p></td>\n",
       "      <td><p fontsize=tiny\" align=\"left\"><br><br>Conclusions given that live sars-cov-2 virions are known to be shed in high concentrations from the nasal cavity of both symptomatic and asymptomatic covid-19 patients, the results suggest that individuals who share enclosed spaces with an infector may be at risk of contracting covid-19 by the aerosol route, even when practicing social distancing.is there an airborne component to the transmission of covid-19? : a quantitative analysis study.</p></td>\n",
       "    </tr>\n",
       "  </tbody>\n",
       "</table>"
      ],
      "text/plain": [
       "<IPython.core.display.HTML object>"
      ]
     },
     "metadata": {},
     "output_type": "display_data"
    },
    {
     "data": {
      "text/html": [
       "<br><h3>Q: Does the range of incubation period vary across age groups?</h3>"
      ],
      "text/plain": [
       "<IPython.core.display.HTML object>"
      ]
     },
     "metadata": {},
     "output_type": "display_data"
    },
    {
     "data": {
      "text/html": [
       "<table border=\"1\" class=\"dataframe\">\n",
       "  <thead>\n",
       "    <tr style=\"text-align: right;\">\n",
       "      <th>pub_date</th>\n",
       "      <th>authors</th>\n",
       "      <th>title</th>\n",
       "      <th>fragment</th>\n",
       "    </tr>\n",
       "  </thead>\n",
       "  <tbody>\n",
       "    <tr>\n",
       "      <td>2020-02-29</td>\n",
       "      <td>Han, and others.</td>\n",
       "      <td><p align=\"left\"><a href=\"https://doi.org/10.1101/2020.02.24.20027474\">Estimate the incubation period of coronavirus 2019 (COVID-19)</a></p></td>\n",
       "      <td><p fontsize=tiny\" align=\"left\"><br><br>We found that the incubation periods of the groups with age>=40 years and age<40 years demonstrated a statistically significant difference.</p></td>\n",
       "    </tr>\n",
       "  </tbody>\n",
       "</table>"
      ],
      "text/plain": [
       "<IPython.core.display.HTML object>"
      ]
     },
     "metadata": {},
     "output_type": "display_data"
    },
    {
     "data": {
      "text/html": [
       "<br><h3>Q: Does the range of incubation period vary with children?</h3>"
      ],
      "text/plain": [
       "<IPython.core.display.HTML object>"
      ]
     },
     "metadata": {},
     "output_type": "display_data"
    },
    {
     "data": {
      "text/html": [
       "<table border=\"1\" class=\"dataframe\">\n",
       "  <thead>\n",
       "    <tr style=\"text-align: right;\">\n",
       "      <th>pub_date</th>\n",
       "      <th>authors</th>\n",
       "      <th>title</th>\n",
       "      <th>fragment</th>\n",
       "    </tr>\n",
       "  </thead>\n",
       "  <tbody>\n",
       "    <tr>\n",
       "      <td>2020-03-18</td>\n",
       "      <td>Jiang, and others.</td>\n",
       "      <td><p align=\"left\"><a href=\"https://doi.org/10.1101/2020.03.15.20036533\">Is a 14-day quarantine period optimal for effectively controlling coronavirus disease 2019 (COVID-19)?</a></p></td>\n",
       "      <td><p fontsize=tiny\" align=\"left\"><br><br>The median incubation period of both male and female adults was similar (7-day) but significantly shorter than that (9-day) of child cases (p=0.02).</p></td>\n",
       "    </tr>\n",
       "    <tr>\n",
       "      <td>2020</td>\n",
       "      <td>Merino-Navarro, and others.</td>\n",
       "      <td><p align=\"left\"><a href=\"https://doi.org/no data \">Prevención y tratamiento del Covid-19 en la población pediátrica desde una perspectiva familiar y comunitaria./ [Prevention and treatment of Covid-19 in the pediatric population from the family and community perspective]</a></p></td>\n",
       "      <td><p fontsize=tiny\" align=\"left\"><br><br>Our objective is to analyze the scientific evidence on the specific recommendations for pediatric care in cases of covid-19 from the family and community settings.the main recommendations and preventive measures in primary health care settings and at home have been selected and analyzed from an integrative approach that includes the biopsychosocial aspects of the child during confinement.the importance of caring for children in the face of the disease lies above all in ensuring the correct measures for the prevention of contagion due to the condition of acting as possible carriers during an incubation period of up to 21 days.</p></td>\n",
       "    </tr>\n",
       "    <tr>\n",
       "      <td>2020-05-16</td>\n",
       "      <td>Merino-Navarro, and others.</td>\n",
       "      <td><p align=\"left\"><a href=\"https://doi.org/10.1016/j.enfcli.2020.05.005\">Prevención y tratamiento del Covid-19 en la población pediátrica desde una perspectiva familiar y comunitaria</a></p></td>\n",
       "      <td><p fontsize=tiny\" align=\"left\"><br><br>The importance of caring for children in the face of the disease lies above all in ensuring the correct measures for the prevention of contagion due to the condition of acting as possible carriers during an incubation period of up to 21 days.</p></td>\n",
       "    </tr>\n",
       "    <tr>\n",
       "      <td>2020</td>\n",
       "      <td>Liu, and others.</td>\n",
       "      <td><p align=\"left\"><a href=\"https://doi.org/no data \">Risk factors associated with COVID-19 infection: a retrospective cohort study based on contacts tracing</a></p></td>\n",
       "      <td><p fontsize=tiny\" align=\"left\"><br><br>Children, old people, females, and family members are susceptible of covid-19 infection, while index cases in the incubation period had lower contagiousness.</p></td>\n",
       "    </tr>\n",
       "    <tr>\n",
       "      <td>2020-07-01</td>\n",
       "      <td>Liu, and others.</td>\n",
       "      <td><p align=\"left\"><a href=\"https://doi.org/10.1080/22221751.2020.1787799\">Risk factors associated with COVID-19 infection: a retrospective cohort study based on contacts tracing.</a></p></td>\n",
       "      <td><p fontsize=tiny\" align=\"left\"><br><br>Conclusion children, old people, females and family members are susceptible to be infected with covid-19, while index cases in incubation period had lower contagiousness.</p></td>\n",
       "    </tr>\n",
       "  </tbody>\n",
       "</table>"
      ],
      "text/plain": [
       "<IPython.core.display.HTML object>"
      ]
     },
     "metadata": {},
     "output_type": "display_data"
    },
    {
     "data": {
      "text/html": [
       "<br><h3>Q: Does the range of incubation period vary based on underlying health?</h3>"
      ],
      "text/plain": [
       "<IPython.core.display.HTML object>"
      ]
     },
     "metadata": {},
     "output_type": "display_data"
    },
    {
     "data": {
      "text/html": [
       "<table border=\"1\" class=\"dataframe\">\n",
       "  <thead>\n",
       "    <tr style=\"text-align: right;\">\n",
       "      <th>pub_date</th>\n",
       "      <th>authors</th>\n",
       "      <th>title</th>\n",
       "      <th>fragment</th>\n",
       "    </tr>\n",
       "  </thead>\n",
       "  <tbody>\n",
       "    <tr>\n",
       "      <td>2020-04-13</td>\n",
       "      <td>Saakian, and others.</td>\n",
       "      <td><p align=\"left\"><a href=\"https://doi.org/no data \">A simple statistical physics model for the epidemic with incubation period</a></p></td>\n",
       "      <td><p fontsize=tiny\" align=\"left\"><br><br>We propose a strategy: organize a quarantine, and then conduct extensive testing of risk groups during the quarantine, evaluating the percentage of the population among risk groups and people with symptoms.a simple statistical physics model for the epidemic with incubation period.</p></td>\n",
       "    </tr>\n",
       "  </tbody>\n",
       "</table>"
      ],
      "text/plain": [
       "<IPython.core.display.HTML object>"
      ]
     },
     "metadata": {},
     "output_type": "display_data"
    },
    {
     "data": {
      "text/html": [
       "<br><h3>Q: What do we know about the basic reproduction number?</h3>"
      ],
      "text/plain": [
       "<IPython.core.display.HTML object>"
      ]
     },
     "metadata": {},
     "output_type": "display_data"
    },
    {
     "data": {
      "text/html": [
       "<table border=\"1\" class=\"dataframe\">\n",
       "  <thead>\n",
       "    <tr style=\"text-align: right;\">\n",
       "      <th>pub_date</th>\n",
       "      <th>authors</th>\n",
       "      <th>title</th>\n",
       "      <th>fragment</th>\n",
       "    </tr>\n",
       "  </thead>\n",
       "  <tbody>\n",
       "    <tr>\n",
       "      <td>2020-02-20</td>\n",
       "      <td>Li, and others.</td>\n",
       "      <td><p align=\"left\"><a href=\"https://doi.org/10.1101/2020.02.18.20024315\">Estimation of the epidemic properties of the 2019 novel coronavirus: A mathematical modeling study</a></p></td>\n",
       "      <td><p fontsize=tiny\" align=\"left\"><br><br>Findings before the closure of wuhan city the basic reproduction number of covid-19 was 4.38 (95% ci: 3.63-5.13), dropping to 3.41 (95% ci: 3.16-3.65) after the closure of wuhan city.<br><br>Over the entire epidemic period covid-19 had a basic reproduction number of 3.39 (95% ci: 3.09-3.70), indicating it has a very high transmissibility.</p></td>\n",
       "    </tr>\n",
       "    <tr>\n",
       "      <td>2020-06-30</td>\n",
       "      <td>Marimuthu, and others.</td>\n",
       "      <td><p align=\"left\"><a href=\"https://doi.org/10.1016/j.cegh.2020.06.012\">Modelling of reproduction number for COVID-19 in India and high incidence states</a></p></td>\n",
       "      <td><p fontsize=tiny\" align=\"left\"><br><br>Results: the basic reproduction number (r(0)) for india was estimated at 1.379 (95% ci: 1.375, 1.384).</p></td>\n",
       "    </tr>\n",
       "    <tr>\n",
       "      <td>2020-03-20</td>\n",
       "      <td>Russo, and others.</td>\n",
       "      <td><p align=\"left\"><a href=\"https://doi.org/10.1101/2020.03.17.20037689\">Tracing DAY-ZERO and Forecasting the Fade out of the COVID-19 Outbreak in Lombardy, Italy: A Compartmental Modelling and Numerical Optimization Approach.</a></p></td>\n",
       "      <td><p fontsize=tiny\" align=\"left\"><br><br>The \"effective\" per-day disease transmission rate for the period until march 8 was found to be 0.686 (95% ci:0.660, 0.713), while the basic reproduction number r0 was found to be 4.51 (95% ci: 4.14, 4.90).</p></td>\n",
       "    </tr>\n",
       "    <tr>\n",
       "      <td>2020-03-20</td>\n",
       "      <td>Jia, and others.</td>\n",
       "      <td><p align=\"left\"><a href=\"https://doi.org/10.1101/2020.03.18.20038570\">Extended SIR prediction of the epidemics trend of COVID-19 in Italy and compared with Hunan, China</a></p></td>\n",
       "      <td><p fontsize=tiny\" align=\"left\"><br><br>The basic reproductive number was estimated using markov chain monte carlo methods and presented using the resulting posterior mean and 95% credible interval (ci).<br><br>Results: in the esir model, we estimated that the basic reproductive number for covid 19 was respectively 4.10 (95% ci: 2.15 to 6.77) in italy and 3.15(95% ci: 1.71 to 5.21) in hunan.</p></td>\n",
       "    </tr>\n",
       "    <tr>\n",
       "      <td>2020</td>\n",
       "      <td>Wangping, and others.</td>\n",
       "      <td><p align=\"left\"><a href=\"https://doi.org/10.3389/fmed.2020.00169\">Extended SIR Prediction of the Epidemics Trend of COVID-19 in Italy and Compared With Hunan, China</a></p></td>\n",
       "      <td><p fontsize=tiny\" align=\"left\"><br><br>The basic reproductive number was estimated using markov chain monte carlo methods and presented using the resulting posterior mean and 95% credible interval (ci).<br><br>Results: in the esir model, we estimated that the mean of basic reproductive number for covid-19 was 4.34 (95% ci, 3.04–6.00) in italy and 3.16 (95% ci, 1.73–5.25) in hunan.</p></td>\n",
       "    </tr>\n",
       "  </tbody>\n",
       "</table>"
      ],
      "text/plain": [
       "<IPython.core.display.HTML object>"
      ]
     },
     "metadata": {},
     "output_type": "display_data"
    },
    {
     "data": {
      "text/html": [
       "<br><h3>Q: What is the prevalance of asymptomatic transmission?</h3>"
      ],
      "text/plain": [
       "<IPython.core.display.HTML object>"
      ]
     },
     "metadata": {},
     "output_type": "display_data"
    },
    {
     "data": {
      "text/html": [
       "<table border=\"1\" class=\"dataframe\">\n",
       "  <thead>\n",
       "    <tr style=\"text-align: right;\">\n",
       "      <th>pub_date</th>\n",
       "      <th>authors</th>\n",
       "      <th>title</th>\n",
       "      <th>fragment</th>\n",
       "    </tr>\n",
       "  </thead>\n",
       "  <tbody>\n",
       "    <tr>\n",
       "      <td>2020-06-19</td>\n",
       "      <td>Ling, and others.</td>\n",
       "      <td><p align=\"left\"><a href=\"https://doi.org/10.1101/2020.06.16.20132423\">Seroprevalence and epidemiological characteristics of immunoglobulin M and G antibodies against SARS-CoV-2 in asymptomatic people in Wuhan, China</a></p></td>\n",
       "      <td><p fontsize=tiny\" align=\"left\"><br><br>Based on the census population aged 16-64 years in wuhan in 2017, we estimated that 172,340 (95% ci: 157,568-187,112) asymptomatic people aged 16-64 years were infected with sars-cov-2 in wuhan between march 25 and april 28, 2020.</p></td>\n",
       "    </tr>\n",
       "    <tr>\n",
       "      <td>2020</td>\n",
       "      <td>Lee, and others.</td>\n",
       "      <td><p align=\"left\"><a href=\"https://doi.org/no data \">Follow up investigation of asymptomatic COVID-19 cases at diagnosis in Busan, Korea</a></p></td>\n",
       "      <td><p fontsize=tiny\" align=\"left\"><br><br>Conclusion: among the 98 confirmed cases, asymptomatic infection was confirmed in four cases (4.0%).</p></td>\n",
       "    </tr>\n",
       "    <tr>\n",
       "      <td>2020</td>\n",
       "      <td>He, and others.</td>\n",
       "      <td><p align=\"left\"><a href=\"https://doi.org/no data \">Estimation of the basic reproduction number, average incubation time, asymptomatic infection rate, and case fatality rate for COVID-19: Meta-analysis and sensitivity analysis</a></p></td>\n",
       "      <td><p fontsize=tiny\" align=\"left\"><br><br>This manuscript conducts a meta-analysis and a sensitivity study to answer the questions: what is the basic reproduction number? how long is the incubation time of the disease on average? what portion of infections are asymptomatic? and ultimately, what is the case fatality rate? our studies estimate the basic reproduction number to be 3.15 with the 95% ci (2.41-3.90), the average incubation time to be 5.08 days with the 95% ci (4.77-5.39) (in day), the asymptomatic infection rate to be 46% with the 95% ci (18.48%-73.60%), and the case fatality rate to be 2.72% with 95% ci (1.29%-4.16%) where asymptomatic infections are accounted for.estimation of the basic reproduction number, average incubation time, asymptomatic infection rate, and case fatality rate for covid-19: meta-analysis and sensitivity analysis.</p></td>\n",
       "    </tr>\n",
       "    <tr>\n",
       "      <td>2020</td>\n",
       "      <td>Sandmann, and others.</td>\n",
       "      <td><p align=\"left\"><a href=\"https://doi.org/no data \">Optimising benefits of testing key workers for infection with SARS-CoV-2: A mathematical modelling analysis</a></p></td>\n",
       "      <td><p fontsize=tiny\" align=\"left\"><br><br>We varied all parameters, including the infection rate (0.1%-20%), proportion asymptomatic (10%-80%), sensitivity (60%-95%), and specificity (90%-100%).</p></td>\n",
       "    </tr>\n",
       "    <tr>\n",
       "      <td>2020</td>\n",
       "      <td>Chen, and others.</td>\n",
       "      <td><p align=\"left\"><a href=\"https://doi.org/no data \">Clinical and Demographic Characteristics of Cluster Cases and Sporadic Cases of Coronavirus Disease 2019 (COVID-19) in 141 Patients in the Main District of Chongqing, China, Between January and February 2020</a></p></td>\n",
       "      <td><p fontsize=tiny\" align=\"left\"><br><br>The 90 cluster cases (63.8%) were older than the sporadic cases, and cross-infection from family gathering occurred in 82.2%, and cough was more common than fever, and there was an increased prevalence of asymptomatic, mild, and moderate cases.</p></td>\n",
       "    </tr>\n",
       "  </tbody>\n",
       "</table>"
      ],
      "text/plain": [
       "<IPython.core.display.HTML object>"
      ]
     },
     "metadata": {},
     "output_type": "display_data"
    },
    {
     "data": {
      "text/html": [
       "<br><h3>Q: What do we know about asymptomatic transmission in children?</h3>"
      ],
      "text/plain": [
       "<IPython.core.display.HTML object>"
      ]
     },
     "metadata": {},
     "output_type": "display_data"
    },
    {
     "data": {
      "text/html": [
       "<table border=\"1\" class=\"dataframe\">\n",
       "  <thead>\n",
       "    <tr style=\"text-align: right;\">\n",
       "      <th>pub_date</th>\n",
       "      <th>authors</th>\n",
       "      <th>title</th>\n",
       "      <th>fragment</th>\n",
       "    </tr>\n",
       "  </thead>\n",
       "  <tbody>\n",
       "    <tr>\n",
       "      <td>2020-05-01</td>\n",
       "      <td>Chen, and others.</td>\n",
       "      <td><p align=\"left\"><a href=\"https://doi.org/no data \">[Asymptomatic SARS-CoV-2 infection in children: a clinical analysis of 20 cases].</a></p></td>\n",
       "      <td><p fontsize=tiny\" align=\"left\"><br><br>Objective to study the clinical and epidemiological features of children with asymptomatic severe acute respiratory syndrome coronavirus 2 (sars-cov-2) infection.<br><br>Methods the clinical data of 20 children who were diagnosed with asymptomatic sars-cov-2 infection from january 20 to march 4, 2020 were analyzed.<br><br>Most of the children with asymptomatic infection have no obvious abnormalities in blood routine and other laboratory tests.<br><br>Changes in chest ct scan can be used as an aid for early diagnosis of asymptomatic infection in children.[asymptomatic sars-cov-2 infection in children: a clinical analysis of 20 cases].</p></td>\n",
       "    </tr>\n",
       "    <tr>\n",
       "      <td>2020</td>\n",
       "      <td>Chen, and others.</td>\n",
       "      <td><p align=\"left\"><a href=\"https://doi.org/no data \">[Asymptomatic SARS-CoV-2 infection in children: a clinical analysis of 20 cases]</a></p></td>\n",
       "      <td><p fontsize=tiny\" align=\"left\"><br><br>Objective: to study the clinical and epidemiological features of children with asymptomatic severe acute respiratory syndrome coronavirus 2 (sars-cov-2) infection.<br><br>Methods: the clinical data of 20 children who were diagnosed with asymptomatic sars-cov-2 infection from january 20 to march 4, 2020 were analyzed.<br><br>Most of the children with asymptomatic infection have no obvious abnormalities in blood routine and other laboratory tests.<br><br>Changes in chest ct scan can be used as an aid for early diagnosis of asymptomatic infection in children.[asymptomatic sars-cov-2 infection in children: a clinical analysis of 20 cases].</p></td>\n",
       "    </tr>\n",
       "    <tr>\n",
       "      <td>2020-04-24</td>\n",
       "      <td>Xu, and others.</td>\n",
       "      <td><p align=\"left\"><a href=\"https://doi.org/10.1101/2020.04.20.20073288\">A follow-up study of children infected with SARS-CoV-2 from Western China</a></p></td>\n",
       "      <td><p fontsize=tiny\" align=\"left\"><br><br>Background: to clarify the characteristic and the duration of positive nucleic acid in children infected with severe acute respiratory syndrome coronavirus 2 (sars-cov-2), including asymptomatic children.<br><br>Results: eleven children (34%) were asymptomatic, among whom six children had normal computed tomographic (ct) scan images.<br><br>The concentrations of white blood cells and neutrophils were higher in children with asymptomatic infection than in children with clinical symptoms or ct abnormalities.<br><br>The mean duration of positive sars-cov-2 nucleic acid was 15.4 (sd=7.2) days and similar for both asymptomatic children and children with symptoms or ct abnormalities.<br><br>Conclusions: children with asymptomatic infection should be quarantined for the same duration as symptomatic patients infected with sars-cov-2.</p></td>\n",
       "    </tr>\n",
       "    <tr>\n",
       "      <td>2020-05-01</td>\n",
       "      <td>Xu, and others.</td>\n",
       "      <td><p align=\"left\"><a href=\"https://doi.org/10.21037/atm-20-3192\">A follow-up study of children infected with SARS-CoV-2 from western China.</a></p></td>\n",
       "      <td><p fontsize=tiny\" align=\"left\"><br><br>Background to clarify the characteristic and the duration of positive nucleic acid in children infected with severe acute respiratory syndrome coronavirus 2 (sars-cov-2), including asymptomatic children.<br><br>Results eleven children (34%) were asymptomatic, among whom six children had normal computed tomographic (ct) scan images.<br><br>The concentrations of white blood cells and neutrophils were higher in children with asymptomatic infection than in children with clinical symptoms or ct abnormalities.<br><br>The mean duration of positive sars-cov-2 nucleic acid was 15.4 (sd =7.2) days and similar for both asymptomatic children and children with symptoms or ct abnormalities.<br><br>Conclusions children with asymptomatic infection should be quarantined for the same duration as symptomatic patients infected with sars-cov-2.</p></td>\n",
       "    </tr>\n",
       "    <tr>\n",
       "      <td>2020</td>\n",
       "      <td>Ma, and others.</td>\n",
       "      <td><p align=\"left\"><a href=\"https://doi.org/no data \">[Clinical features of children with SARS-CoV-2 infection: an analysis of 115 cases]</a></p></td>\n",
       "      <td><p fontsize=tiny\" align=\"left\"><br><br>As for clinical symptoms, 29 children (25.2%) had fever, 47 (40.9%) had respiratory symptoms (including cough, rhinorrhea, and nasal congestion), and 61 (53.0%) were asymptomatic.<br><br>Critical cases are rare and there is a high proportion of asymptomatic infection.[clinical features of children with sars-cov-2 infection: an analysis of 115 cases].</p></td>\n",
       "    </tr>\n",
       "  </tbody>\n",
       "</table>"
      ],
      "text/plain": [
       "<IPython.core.display.HTML object>"
      ]
     },
     "metadata": {},
     "output_type": "display_data"
    },
    {
     "data": {
      "text/html": [
       "<br><h3>Q: What do we know about seasonality of transmission?</h3>"
      ],
      "text/plain": [
       "<IPython.core.display.HTML object>"
      ]
     },
     "metadata": {},
     "output_type": "display_data"
    },
    {
     "data": {
      "text/html": [
       "<table border=\"1\" class=\"dataframe\">\n",
       "  <thead>\n",
       "    <tr style=\"text-align: right;\">\n",
       "      <th>pub_date</th>\n",
       "      <th>authors</th>\n",
       "      <th>title</th>\n",
       "      <th>fragment</th>\n",
       "    </tr>\n",
       "  </thead>\n",
       "  <tbody>\n",
       "    <tr>\n",
       "      <td>2020</td>\n",
       "      <td>Itaya, and others.</td>\n",
       "      <td><p align=\"left\"><a href=\"https://doi.org/no data \">Does COVID-19 infection impact on the trend of seasonal influenza infection? 11 countries and regions, from 2014 to 2020</a></p></td>\n",
       "      <td><p fontsize=tiny\" align=\"left\"><br><br>Results: in east asia, the number of seasonal influenza cases in the 2019-20 season was lower after the covid-19 transmission compared to previous years.</p></td>\n",
       "    </tr>\n",
       "    <tr>\n",
       "      <td>2020-05-02</td>\n",
       "      <td>Douglas, and others.</td>\n",
       "      <td><p align=\"left\"><a href=\"https://doi.org/10.3390/tropicalmed5020068\">Dengue Fever and Severe Dengue in Barbados, 2008–2016</a></p></td>\n",
       "      <td><p fontsize=tiny\" align=\"left\"><br><br>Df cases occurred throughout the year with low level of transmission observed during the dry season (december to june), then increased transmission during rainy season (july to november) peaking in october.</p></td>\n",
       "    </tr>\n",
       "    <tr>\n",
       "      <td>2020-06-01</td>\n",
       "      <td>Magurano, and others.</td>\n",
       "      <td><p align=\"left\"><a href=\"https://doi.org/10.1101/2020.05.30.20099143\">SARS-CoV-2 infection: the environmental endurance of the virus can be influenced by the increase of temperature</a></p></td>\n",
       "      <td><p fontsize=tiny\" align=\"left\"><br><br>Our results support the hypothesis that in the hot season the increase of temperature could influence the environmental endurance of sars-cov2 and reduce covid-19 transmission probability.sars-cov-2 infection: the environmental endurance of the virus can be influenced by the increase of temperature.</p></td>\n",
       "    </tr>\n",
       "    <tr>\n",
       "      <td>2019-02-04</td>\n",
       "      <td>Kim, and others.</td>\n",
       "      <td><p align=\"left\"><a href=\"https://doi.org/10.1371/journal.pone.0197646\">Incorporating media data into a model of infectious disease transmission</a></p></td>\n",
       "      <td><p fontsize=tiny\" align=\"left\"><br><br>Finally, we apply the model to a typical influenza season in washington, dc and estimate how the transmission pattern would have changed given different levels of media coverage.incorporating media data into a model of infectious disease transmission.</p></td>\n",
       "    </tr>\n",
       "    <tr>\n",
       "      <td>2020-07-19</td>\n",
       "      <td>Huang, and others.</td>\n",
       "      <td><p align=\"left\"><a href=\"https://doi.org/10.1101/2020.07.17.20156430\">Transmission Dynamics of Coronavirus Disease 2019 (COVID-19) in the World: The Roles of Intervention and Seasonality</a></p></td>\n",
       "      <td><p fontsize=tiny\" align=\"left\"><br><br>In this study, we developed a novel compartmental model, seir-cv(susceptible-exposed-infectious-removed with control variables), which not only considers the key characteristics of asymptomatic infection and the effects of seasonal variations, but also incorporates different control measures for multiple transmission routes, so as to accurately predict and effectively control the spread of covid-19.<br><br>However, if china's super stringent control measures were implemented from 15 july, 15 august or 15 september 2020, the total infections would be contained about 15 million, 32 million or 370 million respectively, which indicates that the stringent and timely control measures is critical, and the best window period is before september for eventually overcoming covid-19.transmission dynamics of coronavirus disease 2019 (covid-19) in the world: the roles of intervention and seasonality.</p></td>\n",
       "    </tr>\n",
       "  </tbody>\n",
       "</table>"
      ],
      "text/plain": [
       "<IPython.core.display.HTML object>"
      ]
     },
     "metadata": {},
     "output_type": "display_data"
    },
    {
     "data": {
      "text/html": [
       "<br><h3>Q: Informing decontamination based on physical science of the coronavirus?</h3>"
      ],
      "text/plain": [
       "<IPython.core.display.HTML object>"
      ]
     },
     "metadata": {},
     "output_type": "display_data"
    },
    {
     "data": {
      "text/html": [
       "<table border=\"1\" class=\"dataframe\">\n",
       "  <thead>\n",
       "    <tr style=\"text-align: right;\">\n",
       "      <th>pub_date</th>\n",
       "      <th>authors</th>\n",
       "      <th>title</th>\n",
       "      <th>fragment</th>\n",
       "    </tr>\n",
       "  </thead>\n",
       "  <tbody>\n",
       "    <tr>\n",
       "      <td>2020</td>\n",
       "      <td>Lv, and others.</td>\n",
       "      <td><p align=\"left\"><a href=\"https://doi.org/no data \">Detection of SARS-CoV-2 RNA residue on object surfaces in nucleic acid testing laboratory using droplet digital PCR</a></p></td>\n",
       "      <td><p fontsize=tiny\" align=\"left\"><br><br>We found that all the positive objects were directly or indirectly contacted by the operator's gloved hands, suggesting that hands contact was the main transmission pathway that led to laboratory environmental contamination.<br><br>We evaluated the risk areas and operation behaviors that may easily cause contamination, and provided recommendation for improving the laboratory disinfection programs and personal operating specifications.detection of sars-cov-2 rna residue on object surfaces in nucleic acid testing laboratory using droplet digital pcr.</p></td>\n",
       "    </tr>\n",
       "    <tr>\n",
       "      <td>2020-05-15</td>\n",
       "      <td>Garcia-Alamino, and others.</td>\n",
       "      <td><p align=\"left\"><a href=\"https://doi.org/10.1016/j.enfcli.2020.05.001\">Aspectos Epidemiológicos, Clínica Y Mecanismos De Control De La Pandemia Por Sars-Cov-2: Situación En España</a></p></td>\n",
       "      <td><p fontsize=tiny\" align=\"left\"><br><br>Sars-cov-2 has a high transmission rate, the route of transmission between humans is through the secretions of infected people, hands or contaminated objects.</p></td>\n",
       "    </tr>\n",
       "    <tr>\n",
       "      <td>2020-05-29</td>\n",
       "      <td>Shetty, and others.</td>\n",
       "      <td><p align=\"left\"><a href=\"https://doi.org/10.1111/ors.12527\">10 “C” in COVID19</a></p></td>\n",
       "      <td><p fontsize=tiny\" align=\"left\"><br><br>The routes of transmission include *contact of contaminated objects,*circulating droplets in the air called aerosols disseminated through *cough, sneeze, ocular secretions(2) from an infected individual.10 “c” in covid19.</p></td>\n",
       "    </tr>\n",
       "    <tr>\n",
       "      <td>2020-05-31</td>\n",
       "      <td>Blocken, and others.</td>\n",
       "      <td><p align=\"left\"><a href=\"https://doi.org/10.1016/j.buildenv.2020.107022\">Can indoor sports centers be allowed to re-open during the COVID-19 pandemic based on a certificate of equivalence?</a></p></td>\n",
       "      <td><p fontsize=tiny\" align=\"left\"><br><br>This virus can spread by close contact, which includes large droplet spray and inhalation of microscopic droplets, and by indirect contact via contaminated objects.</p></td>\n",
       "    </tr>\n",
       "    <tr>\n",
       "      <td>2020-05-19</td>\n",
       "      <td>Pini, and others.</td>\n",
       "      <td><p align=\"left\"><a href=\"https://doi.org/10.1016/j.ejvs.2020.05.024\">Is it Possible to Safely Maintain a Regular Vascular Practice During the C19 Pandemic?</a></p></td>\n",
       "      <td><p fontsize=tiny\" align=\"left\"><br><br>Abstract objective this study aimed to evaluate the protocol adopted during the emergency phase of the covid-19 pandemic to maintain elective activity in a vascular surgery unit while minimising the risk of contamination to both patients and physicians, and the impact of this activity on the intensive care (ic) resources.</p></td>\n",
       "    </tr>\n",
       "  </tbody>\n",
       "</table>"
      ],
      "text/plain": [
       "<IPython.core.display.HTML object>"
      ]
     },
     "metadata": {},
     "output_type": "display_data"
    },
    {
     "data": {
      "text/html": [
       "<br><h3>Q: What do we know about stability of the virus in environmental conditions?</h3>"
      ],
      "text/plain": [
       "<IPython.core.display.HTML object>"
      ]
     },
     "metadata": {},
     "output_type": "display_data"
    },
    {
     "data": {
      "text/html": [
       "<table border=\"1\" class=\"dataframe\">\n",
       "  <thead>\n",
       "    <tr style=\"text-align: right;\">\n",
       "      <th>pub_date</th>\n",
       "      <th>authors</th>\n",
       "      <th>title</th>\n",
       "      <th>fragment</th>\n",
       "    </tr>\n",
       "  </thead>\n",
       "  <tbody>\n",
       "    <tr>\n",
       "      <td>2020-07-02</td>\n",
       "      <td>V, and others.</td>\n",
       "      <td><p align=\"left\"><a href=\"https://doi.org/10.1016/j.scs.2020.102371\">The contribution of dry indoor built environment on the spread of Coronavirus: Data from various Indian states</a></p></td>\n",
       "      <td><p fontsize=tiny\" align=\"left\"><br><br>In the present work, the existing theory of respiratory droplet drying is used to propose the mechanism of virus spread under various climates and the indoor environment conditions which plays a greater role in the virus spread.<br><br>Understanding this mechanism will be very useful to take the necessary steps to reduce the rate of transmission by initiating corrective measures and maintaining the required conditions in the indoor built environment.the contribution of dry indoor built environment on the spread of coronavirus: data from various indian states.</p></td>\n",
       "    </tr>\n",
       "    <tr>\n",
       "      <td>2020-08-01</td>\n",
       "      <td>Manoj, and others.</td>\n",
       "      <td><p align=\"left\"><a href=\"https://doi.org/10.1016/j.envres.2020.110001\">Potential link between compromised air quality and transmission of the novel corona virus (SARS-CoV-2) in affected areas</a></p></td>\n",
       "      <td><p fontsize=tiny\" align=\"left\"><br><br>Through a critical review of the current literature and a preliminary analysis of the link between sars-cov-2 transmission and air pollution in the affected regions, we offer a perspective that polluted environment could enhance the transmission rate of such deadly viruses under moderate-to-high humidity conditions.<br><br>The aqueous atmospheric aerosols offer a conducive surface for adsorption/absorption of organic molecules and viruses onto them, facilitating a pathway for higher rate of transmission under favourable environmental conditions.</p></td>\n",
       "    </tr>\n",
       "    <tr>\n",
       "      <td>2020-04-14</td>\n",
       "      <td>Sun, and others.</td>\n",
       "      <td><p align=\"left\"><a href=\"https://doi.org/10.1101/2020.04.09.20058875\">Stability of the COVID-19 virus under wet, dry and acidic conditions</a></p></td>\n",
       "      <td><p fontsize=tiny\" align=\"left\"><br><br>Results showed that the covid-19 virus could survive for three days in wet and dry environments, but the dry condition is less favorable for the survival of the virus.</p></td>\n",
       "    </tr>\n",
       "    <tr>\n",
       "      <td>2020</td>\n",
       "      <td>Sato, and others.</td>\n",
       "      <td><p align=\"left\"><a href=\"https://doi.org/10.1371/journal.pone.0235573\">Hyperglycemia enhances pancreatic cancer progression accompanied by elevations in phosphorylated STAT3 and MYC levels.</a></p></td>\n",
       "      <td><p fontsize=tiny\" align=\"left\"><br><br>Preconditioning with a high- or low-glucose medium for 28 days showed that a high-glucose environment increased cell viability and sphere formation in panc-1, a kras-mutant human pancreatic ductal adenocarcinoma cell line, and mpkc1, a kras-mutant murine pancreatic cancer cell line.</p></td>\n",
       "    </tr>\n",
       "    <tr>\n",
       "      <td>2020</td>\n",
       "      <td>Sato, and others.</td>\n",
       "      <td><p align=\"left\"><a href=\"https://doi.org/no data \">Hyperglycemia enhances pancreatic cancer progression accompanied by elevations in phosphorylated STAT3 and MYC levels</a></p></td>\n",
       "      <td><p fontsize=tiny\" align=\"left\"><br><br>Preconditioning with a high- or low-glucose medium for 28 days showed that a high-glucose environment increased cell viability and sphere formation in panc-1, a kras-mutant human pancreatic ductal adenocarcinoma cell line, and mpkc1, a kras-mutant murine pancreatic cancer cell line.</p></td>\n",
       "    </tr>\n",
       "  </tbody>\n",
       "</table>"
      ],
      "text/plain": [
       "<IPython.core.display.HTML object>"
      ]
     },
     "metadata": {},
     "output_type": "display_data"
    },
    {
     "data": {
      "text/html": [
       "<br><h3>Q: What do we know about persistence of the virus on various substrates? (e.g., nasal discharge, sputum, urine, fecal matter, blood)</h3>"
      ],
      "text/plain": [
       "<IPython.core.display.HTML object>"
      ]
     },
     "metadata": {},
     "output_type": "display_data"
    },
    {
     "data": {
      "text/html": [
       "<table border=\"1\" class=\"dataframe\">\n",
       "  <thead>\n",
       "    <tr style=\"text-align: right;\">\n",
       "      <th>pub_date</th>\n",
       "      <th>authors</th>\n",
       "      <th>title</th>\n",
       "      <th>fragment</th>\n",
       "    </tr>\n",
       "  </thead>\n",
       "  <tbody>\n",
       "    <tr>\n",
       "      <td>2020-03-26</td>\n",
       "      <td>Tan, and others.</td>\n",
       "      <td><p align=\"left\"><a href=\"https://doi.org/10.1101/2020.03.24.20042382\">Viral Kinetics and Antibody Responses in Patients with COVID-19</a></p></td>\n",
       "      <td><p fontsize=tiny\" align=\"left\"><br><br>Clinical specimens including nasopharyngeal swab, sputum, blood, urine and stool were tested periodically according to standardized case report form with final follow-up on february 27.<br><br>Conclusions nasopharyngeal, sputum and stools rather than blood and urine, were the major shedding routes for sars-cov-2, and meanwhile sputum had a prolonged viral shedding.</p></td>\n",
       "    </tr>\n",
       "    <tr>\n",
       "      <td>2020-03-08</td>\n",
       "      <td>Woelfel, and others.</td>\n",
       "      <td><p align=\"left\"><a href=\"https://doi.org/10.1101/2020.03.05.20030502\">Clinical presentation and virological assessment of hospitalized cases of coronavirus disease 2019 in a travel-associated transmission cluster</a></p></td>\n",
       "      <td><p fontsize=tiny\" align=\"left\"><br><br>Methods: we studied viral load courses by rt-pcr in oro- and nasopharyngeal swabs, sputum, stool, blood, and urine in nine hospitalized cases.</p></td>\n",
       "    </tr>\n",
       "  </tbody>\n",
       "</table>"
      ],
      "text/plain": [
       "<IPython.core.display.HTML object>"
      ]
     },
     "metadata": {},
     "output_type": "display_data"
    },
    {
     "data": {
      "text/html": [
       "<br><h3>Q: What do we know about persistence of the virus on various surfaces? (e,g., copper, stainless steel, plastic) </h3>"
      ],
      "text/plain": [
       "<IPython.core.display.HTML object>"
      ]
     },
     "metadata": {},
     "output_type": "display_data"
    },
    {
     "data": {
      "text/html": [
       "<table border=\"1\" class=\"dataframe\">\n",
       "  <thead>\n",
       "    <tr style=\"text-align: right;\">\n",
       "      <th>pub_date</th>\n",
       "      <th>authors</th>\n",
       "      <th>title</th>\n",
       "      <th>fragment</th>\n",
       "    </tr>\n",
       "  </thead>\n",
       "  <tbody>\n",
       "    <tr>\n",
       "      <td>2020</td>\n",
       "      <td>Ren, and others.</td>\n",
       "      <td><p align=\"left\"><a href=\"https://doi.org/10.12998/wjcc.v8.i8.1391\">Stability and infectivity of coronaviruses in inanimate environments</a></p></td>\n",
       "      <td><p fontsize=tiny\" align=\"left\"><br><br>This review aims to summarize data on the persistence of different coronaviruses on inanimate surfaces.<br><br>All reports with experimental evidence on the duration persistence of coronaviruses on any type of surface were included.<br><br>Most viruses from the respiratory tract, such as coronaviruses, influenza, sars-cov, or rhinovirus, can persist on surfaces for a few days.<br><br>Persistence time on inanimate surfaces varied from minutes to up to one month, depending on the environmental conditions.<br><br>The most common coronaviruses may well survive or persist on surfaces for up to one month.</p></td>\n",
       "    </tr>\n",
       "    <tr>\n",
       "      <td>2020-06-26</td>\n",
       "      <td>Whitworth, and others.</td>\n",
       "      <td><p align=\"left\"><a href=\"https://doi.org/10.1128/aem.01482-20\">Persistence of Bacteriophage Phi 6 on Porous and Non-Porous Surfaces; Potential for use as Ebola or Coronavirus Surrogate.</a></p></td>\n",
       "      <td><p fontsize=tiny\" align=\"left\"><br><br>The persistence of phi 6 was evaluated as a surrogate for ebov and coronaviruses on porous and nonporous hospital surfaces.<br><br>These data convey to public health investigators that enveloped viruses can persist and remain infective on surfaces, thus demonstrating a potential risk for transmission.<br><br>Under these laboratory-simulated western indoor hospital conditions, phi 6 was used to assess suitability as a surrogate for environmental persistence research related to enveloped viruses, including ebov and coronaviruses.persistence of bacteriophage phi 6 on porous and non-porous surfaces; potential for use as ebola or coronavirus surrogate.</p></td>\n",
       "    </tr>\n",
       "    <tr>\n",
       "      <td>2020</td>\n",
       "      <td>Whitworth, and others.</td>\n",
       "      <td><p align=\"left\"><a href=\"https://doi.org/no data \">Persistence of Bacteriophage Phi 6 on Porous and Non-Porous Surfaces; Potential for use as Ebola or Coronavirus Surrogate</a></p></td>\n",
       "      <td><p fontsize=tiny\" align=\"left\"><br><br>The persistence of phi 6 was evaluated as a surrogate for ebov and coronaviruses on porous and nonporous hospital surfaces.<br><br>These data convey to public health investigators that enveloped viruses can persist and remain infective on surfaces, thus demonstrating a potential risk for transmission.<br><br>Under these laboratory-simulated western indoor hospital conditions, phi 6 was used to assess suitability as a surrogate for environmental persistence research related to enveloped viruses, including ebov and coronaviruses.persistence of bacteriophage phi 6 on porous and non-porous surfaces; potential for use as ebola or coronavirus surrogate.</p></td>\n",
       "    </tr>\n",
       "    <tr>\n",
       "      <td>2020-06-05</td>\n",
       "      <td>Akram, and others.</td>\n",
       "      <td><p align=\"left\"><a href=\"https://doi.org/10.1007/s13337-020-00603-0\">Inanimate surfaces as potential source of 2019-nCoV spread and their disinfection with biocidal agents</a></p></td>\n",
       "      <td><p fontsize=tiny\" align=\"left\"><br><br>Human coronaviruses can persist on inanimate surfaces such as plastic, glass, fibers and metals up to nine days.</p></td>\n",
       "    </tr>\n",
       "    <tr>\n",
       "      <td>2020-06-30</td>\n",
       "      <td>Kampf, and others.</td>\n",
       "      <td><p align=\"left\"><a href=\"https://doi.org/10.1016/j.infpip.2020.100044\">Potential role of inanimate surfaces for the spread of coronaviruses and their inactivation with disinfectant agents</a></p></td>\n",
       "      <td><p fontsize=tiny\" align=\"left\"><br><br>In a recent review on the persistence of human and veterinary coronaviruses on inanimate surfaces it was shown that human coronaviruses such as severe acute respiratory syndrome (sars) coronavirus, middle east respiratory syndrome (mers) coronavirus or endemic human coronaviruses (hcov) can persist on inanimate surfaces like metal, glass or plastic for up to 9 days.</p></td>\n",
       "    </tr>\n",
       "  </tbody>\n",
       "</table>"
      ],
      "text/plain": [
       "<IPython.core.display.HTML object>"
      ]
     },
     "metadata": {},
     "output_type": "display_data"
    },
    {
     "data": {
      "text/html": [
       "<br><h3>Q: What do we know about viral shedding duration?</h3>"
      ],
      "text/plain": [
       "<IPython.core.display.HTML object>"
      ]
     },
     "metadata": {},
     "output_type": "display_data"
    },
    {
     "data": {
      "text/html": [
       "<table border=\"1\" class=\"dataframe\">\n",
       "  <thead>\n",
       "    <tr style=\"text-align: right;\">\n",
       "      <th>pub_date</th>\n",
       "      <th>authors</th>\n",
       "      <th>title</th>\n",
       "      <th>fragment</th>\n",
       "    </tr>\n",
       "  </thead>\n",
       "  <tbody>\n",
       "    <tr>\n",
       "      <td>2020-05-23</td>\n",
       "      <td>Weiss, and others.</td>\n",
       "      <td><p align=\"left\"><a href=\"https://doi.org/10.1101/2020.05.21.20108605\">Spatial and temporal dynamics of SARS-CoV-2 in COVID-19 patients: A systematic review</a></p></td>\n",
       "      <td><p fontsize=tiny\" align=\"left\"><br><br>In this study, we aimed to provide a coherent overview from published studies of the duration of viral detection and viral load in covid-19 patients, stratified by specimen type, clinical severity and age.</p></td>\n",
       "    </tr>\n",
       "    <tr>\n",
       "      <td>2020</td>\n",
       "      <td>Dodds, and others.</td>\n",
       "      <td><p align=\"left\"><a href=\"https://doi.org/no data \">Model-Informed Drug Repurposing: Viral Kinetic Modeling to Prioritize Rational Drug Combinations for COVID-19</a></p></td>\n",
       "      <td><p fontsize=tiny\" align=\"left\"><br><br>The endpoints and metrics included viral load area under the curve (auc), duration of viral shedding, and epithelial cells infected.<br><br>In addition, we observed that the time-window opportunity for a therapeutic intervention to effect duration of viral shedding exceeds the effect on sparing epithelial cells from infection or impact on viral load auc.</p></td>\n",
       "    </tr>\n",
       "    <tr>\n",
       "      <td>2020-07-21</td>\n",
       "      <td>Dodds, and others.</td>\n",
       "      <td><p align=\"left\"><a href=\"https://doi.org/10.1111/bcp.14486\">Model-Informed Drug Repurposing: Viral Kinetic Modeling to Prioritize Rational Drug Combinations for COVID-19.</a></p></td>\n",
       "      <td><p fontsize=tiny\" align=\"left\"><br><br>The endpoints and metrics included viral load area under the curve (auc), duration of viral shedding, and epithelial cells infected.<br><br>In addition, we observed that the time-window opportunity for a therapeutic intervention to effect duration of viral shedding exceeds the effect on sparing epithelial cells from infection or impact on viral load auc.</p></td>\n",
       "    </tr>\n",
       "    <tr>\n",
       "      <td>2020-07-30</td>\n",
       "      <td>Park, and others.</td>\n",
       "      <td><p align=\"left\"><a href=\"https://doi.org/10.1101/2020.07.28.20163873\">Determining the period of communicability of SARS-CoV-2: A rapid review of the literature</a></p></td>\n",
       "      <td><p fontsize=tiny\" align=\"left\"><br><br>Methods: studies reporting empirical data on the period of communicability of sars-cov-2 through investigations of duration of communicability based on in-person contact ('contact transmission'), isolation and culture of virus ('viral isolation'), and viral shedding by detection of nucleic acids by rt-pcr ('viral shedding') were identified through searches of peer-reviewed and pre-print health sciences literature databases (ovid medline, embase, google scholar, medrxiv and arxiv) and the grey literature.</p></td>\n",
       "    </tr>\n",
       "    <tr>\n",
       "      <td>2020-07-28</td>\n",
       "      <td>Cevik, and others.</td>\n",
       "      <td><p align=\"left\"><a href=\"https://doi.org/10.1101/2020.07.25.20162107\">SARS-CoV-2 viral load dynamics, duration of viral shedding and infectiousness: a living systematic review and meta-analysis</a></p></td>\n",
       "      <td><p fontsize=tiny\" align=\"left\"><br><br>Background viral load kinetics and the duration of viral shedding are important determinants for disease transmission.<br><br>We aim i) to characterise viral load dynamics, duration of viral rna, and viable virus shedding of sars-cov-2 in various body fluids and ii) to compare sars-cov-2 viral dynamics with sars-cov-1 and mers-cov.<br><br>Methods: medline, embase, europe pmc, preprint servers and grey literature were searched to retrieve all articles reporting viral dynamics and duration of sars-cov-2, sars-cov-1 and mers-cov shedding.<br><br>Funding: no funding was received.sars-cov-2 viral load dynamics, duration of viral shedding and infectiousness: a living systematic review and meta-analysis.</p></td>\n",
       "    </tr>\n",
       "  </tbody>\n",
       "</table>"
      ],
      "text/plain": [
       "<IPython.core.display.HTML object>"
      ]
     },
     "metadata": {},
     "output_type": "display_data"
    },
    {
     "data": {
      "text/html": [
       "<br><h3>Q: What do we know about viral shedding in fecal/stool?</h3>"
      ],
      "text/plain": [
       "<IPython.core.display.HTML object>"
      ]
     },
     "metadata": {},
     "output_type": "display_data"
    },
    {
     "data": {
      "text/html": [
       "<table border=\"1\" class=\"dataframe\">\n",
       "  <thead>\n",
       "    <tr style=\"text-align: right;\">\n",
       "      <th>pub_date</th>\n",
       "      <th>authors</th>\n",
       "      <th>title</th>\n",
       "      <th>fragment</th>\n",
       "    </tr>\n",
       "  </thead>\n",
       "  <tbody>\n",
       "    <tr>\n",
       "      <td>2020</td>\n",
       "      <td>Ma, and others.</td>\n",
       "      <td><p align=\"left\"><a href=\"https://doi.org/no data \">Do children need a longer time to shed SARS-CoV-2 in stool than adults?</a></p></td>\n",
       "      <td><p fontsize=tiny\" align=\"left\"><br><br>Sars-cov-2 can be shed in the stool of patients in the recovery phase.<br><br>We analyzed the possible causes of this finding and recommend that a negative stool sample be included in a patient's discharge criteria.do children need a longer time to shed sars-cov-2 in stool than adults?.</p></td>\n",
       "    </tr>\n",
       "    <tr>\n",
       "      <td>2020</td>\n",
       "      <td>Cheung, and others.</td>\n",
       "      <td><p align=\"left\"><a href=\"https://doi.org/no data \">Gastrointestinal Manifestations of SARS-CoV-2 Infection and Virus Load in Fecal Samples From a Hong Kong Cohort: Systematic Review and Meta-analysis</a></p></td>\n",
       "      <td><p fontsize=tiny\" align=\"left\"><br><br>We performed a systematic review and meta-analysis of published gastrointestinal symptoms and detection of virus in stool and also summarized data from a cohort of patients with covid-19 in hong kong.</p></td>\n",
       "    </tr>\n",
       "    <tr>\n",
       "      <td>2020-04-03</td>\n",
       "      <td>Cheung, and others.</td>\n",
       "      <td><p align=\"left\"><a href=\"https://doi.org/10.1053/j.gastro.2020.03.065\">Gastrointestinal Manifestations of SARS-CoV-2 Infection and Virus Load in Fecal Samples from the Hong Kong Cohort and Systematic Review and Meta-analysis</a></p></td>\n",
       "      <td><p fontsize=tiny\" align=\"left\"><br><br>We performed a systematic review and meta-analysis of published gastrointestinal symptoms and detection of virus in stool, and also summarized data from a cohort of patients with covid-19 in hong kong.</p></td>\n",
       "    </tr>\n",
       "    <tr>\n",
       "      <td>2020-06-24</td>\n",
       "      <td>Olesen, and others.</td>\n",
       "      <td><p align=\"left\"><a href=\"https://doi.org/10.1101/2020.06.24.169094\">Modelling donor screening strategies to reduce the risk of SARS-CoV-2 via fecal microbiota transplantation</a></p></td>\n",
       "      <td><p fontsize=tiny\" align=\"left\"><br><br>The potential for transmission of sars-cov-2 shed in stool via fecal microbiota transplantation is not yet known, and the effectiveness of various testing strategies to prevent fmt-based transmission has also not yet been quantified.</p></td>\n",
       "    </tr>\n",
       "    <tr>\n",
       "      <td>2020-05-23</td>\n",
       "      <td>De and others.</td>\n",
       "      <td><p align=\"left\"><a href=\"https://doi.org/10.1093/jpids/piaa065\">Dynamic viral SARS-CoV-2 RNA shedding in in children: preliminary data and clinical consideration of Italian regional center.</a></p></td>\n",
       "      <td><p fontsize=tiny\" align=\"left\"><br><br>These data underline the significance of nasopharyngeal and stool swab for detecting infected children; further studies are needed for transmissibility.dynamic viral sars-cov-2 rna shedding in in children: preliminary data and clinical consideration of italian regional center.</p></td>\n",
       "    </tr>\n",
       "  </tbody>\n",
       "</table>"
      ],
      "text/plain": [
       "<IPython.core.display.HTML object>"
      ]
     },
     "metadata": {},
     "output_type": "display_data"
    },
    {
     "data": {
      "text/html": [
       "<br><h3>Q: What do we know about viral shedding from nasopharynx?</h3>"
      ],
      "text/plain": [
       "<IPython.core.display.HTML object>"
      ]
     },
     "metadata": {},
     "output_type": "display_data"
    },
    {
     "data": {
      "text/html": [
       "<table border=\"1\" class=\"dataframe\">\n",
       "  <thead>\n",
       "    <tr style=\"text-align: right;\">\n",
       "      <th>pub_date</th>\n",
       "      <th>authors</th>\n",
       "      <th>title</th>\n",
       "      <th>fragment</th>\n",
       "    </tr>\n",
       "  </thead>\n",
       "  <tbody>\n",
       "    <tr>\n",
       "      <td>2020-06-30</td>\n",
       "      <td>L'Huillier, and others.</td>\n",
       "      <td><p align=\"left\"><a href=\"https://doi.org/10.3201/eid2610.202403\">Culture-Competent SARS-CoV-2 in Nasopharynx of Symptomatic Neonates, Children, and Adolescents.</a></p></td>\n",
       "      <td><p fontsize=tiny\" align=\"left\"><br><br>Our findings show that symptomatic neonates, children, and teenagers shed infectious sars-cov-2, suggesting that transmission from them is plausible.culture-competent sars-cov-2 in nasopharynx of symptomatic neonates, children, and adolescents.</p></td>\n",
       "    </tr>\n",
       "    <tr>\n",
       "      <td>2020</td>\n",
       "      <td>L039,; and others.</td>\n",
       "      <td><p align=\"left\"><a href=\"https://doi.org/no data \">Culture-Competent SARS-CoV-2 in Nasopharynx of Symptomatic Neonates, Children, and Adolescents</a></p></td>\n",
       "      <td><p fontsize=tiny\" align=\"left\"><br><br>Our findings show that symptomatic neonates, children, and teenagers shed infectious sars-cov-2, suggesting that transmission from them is plausible.culture-competent sars-cov-2 in nasopharynx of symptomatic neonates, children, and adolescents.</p></td>\n",
       "    </tr>\n",
       "    <tr>\n",
       "      <td>2020</td>\n",
       "      <td>Wolf, and others.</td>\n",
       "      <td><p align=\"left\"><a href=\"https://doi.org/no data \">Clinical and Epidemiological Features of a Family Cluster of Symptomatic and Asymptomatic Severe Acute Respiratory Syndrome Coronavirus 2 Infection</a></p></td>\n",
       "      <td><p fontsize=tiny\" align=\"left\"><br><br>Both children initially shed infectious virus, but cleared the virus after 5 to 6 days in the nasopharynx.</p></td>\n",
       "    </tr>\n",
       "    <tr>\n",
       "      <td>2020-03-03</td>\n",
       "      <td>Young, and others.</td>\n",
       "      <td><p align=\"left\"><a href=\"https://doi.org/10.1001/jama.2020.3204\">Epidemiologic Features and Clinical Course of Patients Infected With SARS-CoV-2 in Singapore.</a></p></td>\n",
       "      <td><p fontsize=tiny\" align=\"left\"><br><br>Results among the 18 hospitalized patients with pcr-confirmed sars-cov-2 infection (median age, 47 years; 9 [50%] women), clinical presentation was an upper respiratory tract infection in 12 (67%), and viral shedding from the nasopharynx was prolonged for 7 days or longer among 15 (83%).</p></td>\n",
       "    </tr>\n",
       "    <tr>\n",
       "      <td>2020</td>\n",
       "      <td>Young, and others.</td>\n",
       "      <td><p align=\"left\"><a href=\"https://doi.org/no data \">Epidemiologic Features and Clinical Course of Patients Infected With SARS-CoV-2 in Singapore</a></p></td>\n",
       "      <td><p fontsize=tiny\" align=\"left\"><br><br>Results: among the 18 hospitalized patients with pcr-confirmed sars-cov-2 infection (median age, 47 years; 9 [50%] women), clinical presentation was an upper respiratory tract infection in 12 (67%), and viral shedding from the nasopharynx was prolonged for 7 days or longer among 15 (83%).</p></td>\n",
       "    </tr>\n",
       "  </tbody>\n",
       "</table>"
      ],
      "text/plain": [
       "<IPython.core.display.HTML object>"
      ]
     },
     "metadata": {},
     "output_type": "display_data"
    },
    {
     "data": {
      "text/html": [
       "<br><h3>Q: What do we know about viral shedding in blood?</h3>"
      ],
      "text/plain": [
       "<IPython.core.display.HTML object>"
      ]
     },
     "metadata": {},
     "output_type": "display_data"
    },
    {
     "data": {
      "text/html": [
       "<table border=\"1\" class=\"dataframe\">\n",
       "  <thead>\n",
       "    <tr style=\"text-align: right;\">\n",
       "      <th>pub_date</th>\n",
       "      <th>authors</th>\n",
       "      <th>title</th>\n",
       "      <th>fragment</th>\n",
       "    </tr>\n",
       "  </thead>\n",
       "  <tbody>\n",
       "    <tr>\n",
       "      <td>2020-04-17</td>\n",
       "      <td>Zeng, and others.</td>\n",
       "      <td><p align=\"left\"><a href=\"https://doi.org/10.1101/2020.04.15.20063107\">Association between ABO blood groups and clinical outcome of coronavirus disease 2019: Evidence from two cohorts</a></p></td>\n",
       "      <td><p fontsize=tiny\" align=\"left\"><br><br>With 265 patients from multiple medical centers and two established cohorts, we found that the blood type a population was more sensitive to sars-cov-2.</p></td>\n",
       "    </tr>\n",
       "    <tr>\n",
       "      <td>2020</td>\n",
       "      <td>Baron, and others.</td>\n",
       "      <td><p align=\"left\"><a href=\"https://doi.org/no data \">Patient blood management during the COVID-19 pandemic: a narrative review</a></p></td>\n",
       "      <td><p fontsize=tiny\" align=\"left\"><br><br>The aim of this expert review is to provide clinicians and healthcare authorities with information regarding how to apply established principles of patient blood management during the covid-19 pandemic.</p></td>\n",
       "    </tr>\n",
       "    <tr>\n",
       "      <td>2020-04-27</td>\n",
       "      <td>Baron, and others.</td>\n",
       "      <td><p align=\"left\"><a href=\"https://doi.org/10.1111/anae.15095\">Patient blood management during the COVID-19 pandemic - a narrative review.</a></p></td>\n",
       "      <td><p fontsize=tiny\" align=\"left\"><br><br>The aim of this expert review is to provide clinicians and health care authorities with information regarding how to apply established principles of patient blood management during the covid-19 pandemic.</p></td>\n",
       "    </tr>\n",
       "    <tr>\n",
       "      <td>2020-05-28</td>\n",
       "      <td>Epstein, and others.</td>\n",
       "      <td><p align=\"left\"><a href=\"https://doi.org/10.1111/vox.12964\">Use of COVID‐19 convalescent plasma in low‐ and middle‐income countries: a call for ethical principles and the assurance of quality and safety</a></p></td>\n",
       "      <td><p fontsize=tiny\" align=\"left\"><br><br>The working party on global blood safety of the international society of blood transfusion has published “points to consider in the preparation and transfusion of covid‐19 convalescent plasma in low‐ and middle‐ income countries”.</p></td>\n",
       "    </tr>\n",
       "    <tr>\n",
       "      <td>2020</td>\n",
       "      <td>Zeng, and others.</td>\n",
       "      <td><p align=\"left\"><a href=\"https://doi.org/no data \">Can we predict the severity of coronavirus disease 2019 with a routine blood test?</a></p></td>\n",
       "      <td><p fontsize=tiny\" align=\"left\"><br><br>Methods: pubmed, embase, cochrane library, wanfang, and china national knowledge infrastructure (cnki) databases were searched to identify studies reporting data on markers in the routine blood test and the severity of covid­19, published until march 20, 2020.</p></td>\n",
       "    </tr>\n",
       "  </tbody>\n",
       "</table>"
      ],
      "text/plain": [
       "<IPython.core.display.HTML object>"
      ]
     },
     "metadata": {},
     "output_type": "display_data"
    },
    {
     "data": {
      "text/html": [
       "<br><h3>Q: What do we know about viral shedding in urine?</h3>"
      ],
      "text/plain": [
       "<IPython.core.display.HTML object>"
      ]
     },
     "metadata": {},
     "output_type": "display_data"
    },
    {
     "data": {
      "text/html": [
       "<table border=\"1\" class=\"dataframe\">\n",
       "  <thead>\n",
       "    <tr style=\"text-align: right;\">\n",
       "      <th>pub_date</th>\n",
       "      <th>authors</th>\n",
       "      <th>title</th>\n",
       "      <th>fragment</th>\n",
       "    </tr>\n",
       "  </thead>\n",
       "  <tbody>\n",
       "    <tr>\n",
       "      <td>2020</td>\n",
       "      <td>Funk, and others.</td>\n",
       "      <td><p align=\"left\"><a href=\"https://doi.org/no data \">Smothering fecal-oral coronavirus spread</a></p></td>\n",
       "      <td><p fontsize=tiny\" align=\"left\"><br><br>A review the research of zang et al (sci immunol , 2020, 5, 3582) is reviewed diarrhea is a common symptom in patients with coronavirus disease 2019 (covid-19) zang et al used organoid cultures of cells from the epithelial lining of human small and large intestine as an in vitro model system with which to study viral entry and replication in enterocytes mature enterocytes expressing the viral receptor were susceptible to productive infection, which was also stimulated by the expression of a protease involved in viral entry a subset of patients with covid-19 shed high amounts of viral rna in feces, but experiments with simulated human colonic fluid suggested that any shed virus would be rapidly inactivated during transit through the colonsmothering fecal-oral coronavirus spread.</p></td>\n",
       "    </tr>\n",
       "    <tr>\n",
       "      <td>2020-06-29</td>\n",
       "      <td>Schnapp, and others.</td>\n",
       "      <td><p align=\"left\"><a href=\"https://doi.org/10.1111/jdv.16749\">Introductory histopathological findings may shed light on COVID‐19 paediatric hyperinflammatory shock syndrome</a></p></td>\n",
       "      <td><p fontsize=tiny\" align=\"left\"><br><br>Recent report from italy reported a 30 time increase in the rate of kawasaki-like presentation during the covid-19 pandemic among children, in many cases the nasopharyngeal swabs taken from these children were negative for covid-19, and the association with covid-19 infection is unclear.introductory histopathological findings may shed light on covid‐19 paediatric hyperinflammatory shock syndrome.</p></td>\n",
       "    </tr>\n",
       "    <tr>\n",
       "      <td>2020-06-12</td>\n",
       "      <td>Farkas, and others.</td>\n",
       "      <td><p align=\"left\"><a href=\"https://doi.org/10.1016/j.coesh.2020.06.001\">Wastewater and public health: the potential of wastewater surveillance for monitoring COVID-19</a></p></td>\n",
       "      <td><p fontsize=tiny\" align=\"left\"><br><br>As the amount of virus shed in faeces and urine varies largely from person to person, it is very difficult to quantitatively determine the number of people who are infected in the population.</p></td>\n",
       "    </tr>\n",
       "    <tr>\n",
       "      <td>2020-03-26</td>\n",
       "      <td>Santarpia, and others.</td>\n",
       "      <td><p align=\"left\"><a href=\"https://doi.org/10.1101/2020.03.23.20039446\">Transmission Potential of SARS-CoV-2 in Viral Shedding Observed at the University of Nebraska Medical Center</a></p></td>\n",
       "      <td><p fontsize=tiny\" align=\"left\"><br><br>During the initial isolation of 13 individuals confirmed positive with covid-19 infection, air and surface samples were collected in eleven isolation rooms to examine viral shedding from isolated individuals.<br><br>Many commonly used items, toilet facilities, and air samples had evidence of viral contamination, indicating that sars-cov-2 is shed to the environment as expired particles, during toileting, and through contact with fomites.</p></td>\n",
       "    </tr>\n",
       "    <tr>\n",
       "      <td>2020-06-10</td>\n",
       "      <td>Bhatia, and others.</td>\n",
       "      <td><p align=\"left\"><a href=\"https://doi.org/10.4103/aian.aian_380_20\">COVID-19 and Stroke: Incidental, Triggered or Causative</a></p></td>\n",
       "      <td><p fontsize=tiny\" align=\"left\"><br><br>Data from stroke patients gathered in large multicentric cohorts could help shed more light on the occurrence, behaviour, aetiology, pathophysiology, biomarkers and outcomes of stroke occurring during the ongoing pandemic.covid-19 and stroke: incidental, triggered or causative.</p></td>\n",
       "    </tr>\n",
       "  </tbody>\n",
       "</table>"
      ],
      "text/plain": [
       "<IPython.core.display.HTML object>"
      ]
     },
     "metadata": {},
     "output_type": "display_data"
    },
    {
     "data": {
      "text/html": [
       "<br><h3>Q: What do we know about implemtation of diagnostics?</h3>"
      ],
      "text/plain": [
       "<IPython.core.display.HTML object>"
      ]
     },
     "metadata": {},
     "output_type": "display_data"
    },
    {
     "data": {
      "text/html": [
       "<table border=\"1\" class=\"dataframe\">\n",
       "  <thead>\n",
       "    <tr style=\"text-align: right;\">\n",
       "      <th>pub_date</th>\n",
       "      <th>authors</th>\n",
       "      <th>title</th>\n",
       "      <th>fragment</th>\n",
       "    </tr>\n",
       "  </thead>\n",
       "  <tbody>\n",
       "    <tr>\n",
       "      <td>2020</td>\n",
       "      <td>McDermott, and others.</td>\n",
       "      <td><p align=\"left\"><a href=\"https://doi.org/no data \">Utilising Point of Care Diagnostics to Minimise Nosocomial Infection in the 2019 Novel Coronavirus (SARS-CoV-2) Pandemic</a></p></td>\n",
       "      <td><p fontsize=tiny\" align=\"left\"><br><br>No data utilising point of care diagnostics to minimise nosocomial infection in the 2019 novel coronavirus (sars-cov-2) pandemic.</p></td>\n",
       "    </tr>\n",
       "    <tr>\n",
       "      <td>2020-06-03</td>\n",
       "      <td>McDonald, and others.</td>\n",
       "      <td><p align=\"left\"><a href=\"https://doi.org/10.1111/acem.14039\">Diagnostic Performance of a Rapid Point of Care Test for SARS‐CoV‐2 in an Urban ED Setting</a></p></td>\n",
       "      <td><p fontsize=tiny\" align=\"left\"><br><br>This was made possible by increasing availability of diagnostic molecular tests in several formats, from laboratory based traditional, rt‐pcr methods to near patient testing rapid point of care pcr tests.diagnostic performance of a rapid point of care test for sars‐cov‐2 in an urban ed setting.</p></td>\n",
       "    </tr>\n",
       "    <tr>\n",
       "      <td>2020-04-04</td>\n",
       "      <td>Osterdahl, and others.</td>\n",
       "      <td><p align=\"left\"><a href=\"https://doi.org/10.1101/2020.04.01.20047357\">Detecting SARS-CoV-2 at point of care: Preliminary data comparing Loop-mediated isothermal amplification (LAMP) to PCR</a></p></td>\n",
       "      <td><p fontsize=tiny\" align=\"left\"><br><br>A cost effective and efficient diagnostic tool as near to the point of care (poc) as possible would be a game changer in current testing.</p></td>\n",
       "    </tr>\n",
       "    <tr>\n",
       "      <td>2020-06-18</td>\n",
       "      <td>Mlcochova, and others.</td>\n",
       "      <td><p align=\"left\"><a href=\"https://doi.org/10.1101/2020.06.16.20133157\">Combined point of care nucleic acid and antibody testing for SARS-CoV-2: a prospective cohort study in suspected moderate to severe COVID-19 disease.</a></p></td>\n",
       "      <td><p fontsize=tiny\" align=\"left\"><br><br>We assessed the diagnostic accuracy of combined rapid antibody point of care (poc) and nucleic acid assays for suspected covid-19 disease in the emergency department.<br><br>Conclusions dual point of care sars-cov-2 testing can significantly improve diagnostic sensitivity, whilst maintaining high specificity.</p></td>\n",
       "    </tr>\n",
       "    <tr>\n",
       "      <td>2020-04-14</td>\n",
       "      <td>ANNAMALAI, and others.</td>\n",
       "      <td><p align=\"left\"><a href=\"https://doi.org/10.1101/2020.04.10.20060293\">A SIMPLE COLORIMETRIC MOLECULAR DETECTION OF NOVEL CORONAVIRUS (COVID-19), AN ESSENTIAL DIAGNOSTIC TOOL FOR PANDEMIC SCREENING</a></p></td>\n",
       "      <td><p fontsize=tiny\" align=\"left\"><br><br>Aim: we intended to develop and deploy a robust and rapid diagnostic methodology using lamp assay for use in point of care settings to detect sars-cov-2 infection.<br><br>Conclusion: the present study demonstrates that the lamp assay developed was a rapid, reliable, sensitive and cost effective method to detect sars-cov-2 infection in a point of care as well as in laboratory settings.a simple colorimetric molecular detection of novel coronavirus (covid-19), an essential diagnostic tool for pandemic screening.</p></td>\n",
       "    </tr>\n",
       "  </tbody>\n",
       "</table>"
      ],
      "text/plain": [
       "<IPython.core.display.HTML object>"
      ]
     },
     "metadata": {},
     "output_type": "display_data"
    },
    {
     "data": {
      "text/html": [
       "<br><h3>Q: What do we know about disease models?</h3>"
      ],
      "text/plain": [
       "<IPython.core.display.HTML object>"
      ]
     },
     "metadata": {},
     "output_type": "display_data"
    },
    {
     "data": {
      "text/html": [
       "<table border=\"1\" class=\"dataframe\">\n",
       "  <thead>\n",
       "    <tr style=\"text-align: right;\">\n",
       "      <th>pub_date</th>\n",
       "      <th>authors</th>\n",
       "      <th>title</th>\n",
       "      <th>fragment</th>\n",
       "    </tr>\n",
       "  </thead>\n",
       "  <tbody>\n",
       "    <tr>\n",
       "      <td>2020-05-30</td>\n",
       "      <td>Lalwani, and others.</td>\n",
       "      <td><p align=\"left\"><a href=\"https://doi.org/10.1016/j.chaos.2020.109939\">Predicting optimal lockdown period with parametric approach using three-phase maturation SIRD model for COVID-19 pandemic</a></p></td>\n",
       "      <td><p fontsize=tiny\" align=\"left\"><br><br>Proposed sird model is divided into three phases based on the awareness and sustainability of disease.</p></td>\n",
       "    </tr>\n",
       "    <tr>\n",
       "      <td>2020-05-16</td>\n",
       "      <td>Olivier, and others.</td>\n",
       "      <td><p align=\"left\"><a href=\"https://doi.org/no data \">An epidemiological model for the spread of COVID-19: A South African case study</a></p></td>\n",
       "      <td><p fontsize=tiny\" align=\"left\"><br><br>It is found that the model fits the initial disease progression well, but that the long-term predictive capability of the model is rather poor.</p></td>\n",
       "    </tr>\n",
       "    <tr>\n",
       "      <td>2020-06-28</td>\n",
       "      <td>Zhang, and others.</td>\n",
       "      <td><p align=\"left\"><a href=\"https://doi.org/10.1016/j.chaos.2020.110060\">A novel covid-19 mathematical model with fractional derivatives: Singular and nonsingular kernels</a></p></td>\n",
       "      <td><p fontsize=tiny\" align=\"left\"><br><br>We presented a detailed analysis of the suggested model including, the derivation of equilibrium points endemic and disease-free, reproductive number using the next generation matrix, the stability analysis of the equilibrium points and finally the positiveness of the model solutions.</p></td>\n",
       "    </tr>\n",
       "    <tr>\n",
       "      <td>2020</td>\n",
       "      <td>Li, and others.</td>\n",
       "      <td><p align=\"left\"><a href=\"https://doi.org/10.1007/s12204-020-2169-0\">Preliminary Assessment of the COVID-19 Outbreak Using 3-Staged Model e-ISHR</a></p></td>\n",
       "      <td><p fontsize=tiny\" align=\"left\"><br><br>Besides, in order to take the government’s control and people’s awareness into consideration, we change our e-ishr model into a 3-staged model which effectively shows the impact of these factors on the spread of the disease.</p></td>\n",
       "    </tr>\n",
       "    <tr>\n",
       "      <td>2020-05-25</td>\n",
       "      <td>Khoshnaw, and others.</td>\n",
       "      <td><p align=\"left\"><a href=\"https://doi.org/10.1016/j.chaos.2020.109932\">A Quantitative and Qualitative Analysis of the COVID–19 Pandemic Model</a></p></td>\n",
       "      <td><p fontsize=tiny\" align=\"left\"><br><br>Mathematical models with computational simulations are effective tools that help global efforts to estimate key transmission parameters and further improvements for controlling this disease.<br><br>This is an infectious disease and can be modeled as a system of non-linear differential equations with reaction rates.<br><br>Interestingly, we identify that transition rates between asymptomatic infected with both reported and unreported symptomatic infected individuals are very sensitive parameters concerning model variables in spreading this disease.</p></td>\n",
       "    </tr>\n",
       "  </tbody>\n",
       "</table>"
      ],
      "text/plain": [
       "<IPython.core.display.HTML object>"
      ]
     },
     "metadata": {},
     "output_type": "display_data"
    },
    {
     "data": {
      "text/html": [
       "<br><h3>Q: What do we know about models for disease infection?</h3>"
      ],
      "text/plain": [
       "<IPython.core.display.HTML object>"
      ]
     },
     "metadata": {},
     "output_type": "display_data"
    },
    {
     "data": {
      "text/html": [
       "<table border=\"1\" class=\"dataframe\">\n",
       "  <thead>\n",
       "    <tr style=\"text-align: right;\">\n",
       "      <th>pub_date</th>\n",
       "      <th>authors</th>\n",
       "      <th>title</th>\n",
       "      <th>fragment</th>\n",
       "    </tr>\n",
       "  </thead>\n",
       "  <tbody>\n",
       "    <tr>\n",
       "      <td>2020-07-29</td>\n",
       "      <td>Guan, and others.</td>\n",
       "      <td><p align=\"left\"><a href=\"https://doi.org/10.1101/2020.07.27.20161430\">Transport effect of COVID-19 pandemic in France</a></p></td>\n",
       "      <td><p fontsize=tiny\" align=\"left\"><br><br>This compartment model divides the infected and the recovered individuals into undetected and detected compartments respectively.</p></td>\n",
       "    </tr>\n",
       "    <tr>\n",
       "      <td>2020-05-30</td>\n",
       "      <td>Lalwani, and others.</td>\n",
       "      <td><p align=\"left\"><a href=\"https://doi.org/10.1016/j.chaos.2020.109939\">Predicting optimal lockdown period with parametric approach using three-phase maturation SIRD model for COVID-19 pandemic</a></p></td>\n",
       "      <td><p fontsize=tiny\" align=\"left\"><br><br>This paper proposes a three-phase susceptible-infected-recovered-dead (sird) model to calculate an optimal lockdown period for some specific geographical regions that will be favorable to break not only the transmission chain but also will help country’s economy to recover and support infrastructure in a fight against covid-19.<br><br>The model is tested on china data and is efficient enough to propose a model very close to their actual figures of infected people, recovered people, died and active cases.</p></td>\n",
       "    </tr>\n",
       "    <tr>\n",
       "      <td>2020-05-16</td>\n",
       "      <td>Olivier, and others.</td>\n",
       "      <td><p align=\"left\"><a href=\"https://doi.org/no data \">An epidemiological model for the spread of COVID-19: A South African case study</a></p></td>\n",
       "      <td><p fontsize=tiny\" align=\"left\"><br><br>As south africa is still in the early phases of the global covid-19 pandemic with the confirmed infectious cases not having peaked, the seiqrdp model is first parameterized on data for germany, italy, and south korea - countries for which the number of infectious cases are well past their peaks.<br><br>The south african seiqrdp model predicts that the peak in the number of confirmed infectious individuals will occur at the end of october 2020, and that the total number of deaths will range from about 10,000 to 90,000, with a nominal value of about 22,000.</p></td>\n",
       "    </tr>\n",
       "    <tr>\n",
       "      <td>2020-05-29</td>\n",
       "      <td>Webb, and others.</td>\n",
       "      <td><p align=\"left\"><a href=\"https://doi.org/10.1101/2020.05.28.20116103\">Predicting the end-stage of the COVID-19 epidemic in Brazil</a></p></td>\n",
       "      <td><p fontsize=tiny\" align=\"left\"><br><br>The model incorporates an asymptomatic infectious stage and a symptomatic infectious stage.<br><br>The model emphasizes the importance of reducing asymptomatic infections in controlling the epidemic.predicting the end-stage of the covid-19 epidemic in brazil.</p></td>\n",
       "    </tr>\n",
       "    <tr>\n",
       "      <td>2020-06-28</td>\n",
       "      <td>Zhang, and others.</td>\n",
       "      <td><p align=\"left\"><a href=\"https://doi.org/10.1016/j.chaos.2020.110060\">A novel covid-19 mathematical model with fractional derivatives: Singular and nonsingular kernels</a></p></td>\n",
       "      <td><p fontsize=tiny\" align=\"left\"><br><br>The model is constructed with five classes including susceptible, exposed, infected, recovered and deaths.</p></td>\n",
       "    </tr>\n",
       "  </tbody>\n",
       "</table>"
      ],
      "text/plain": [
       "<IPython.core.display.HTML object>"
      ]
     },
     "metadata": {},
     "output_type": "display_data"
    },
    {
     "data": {
      "text/html": [
       "<br><h3>Q: What do we know about models for disease transmission?</h3>"
      ],
      "text/plain": [
       "<IPython.core.display.HTML object>"
      ]
     },
     "metadata": {},
     "output_type": "display_data"
    },
    {
     "data": {
      "text/html": [
       "<table border=\"1\" class=\"dataframe\">\n",
       "  <thead>\n",
       "    <tr style=\"text-align: right;\">\n",
       "      <th>pub_date</th>\n",
       "      <th>authors</th>\n",
       "      <th>title</th>\n",
       "      <th>fragment</th>\n",
       "    </tr>\n",
       "  </thead>\n",
       "  <tbody>\n",
       "    <tr>\n",
       "      <td>2020-05-30</td>\n",
       "      <td>Lalwani, and others.</td>\n",
       "      <td><p align=\"left\"><a href=\"https://doi.org/10.1016/j.chaos.2020.109939\">Predicting optimal lockdown period with parametric approach using three-phase maturation SIRD model for COVID-19 pandemic</a></p></td>\n",
       "      <td><p fontsize=tiny\" align=\"left\"><br><br>This paper proposes a three-phase susceptible-infected-recovered-dead (sird) model to calculate an optimal lockdown period for some specific geographical regions that will be favorable to break not only the transmission chain but also will help country’s economy to recover and support infrastructure in a fight against covid-19.</p></td>\n",
       "    </tr>\n",
       "    <tr>\n",
       "      <td>2020-05-25</td>\n",
       "      <td>Khoshnaw, and others.</td>\n",
       "      <td><p align=\"left\"><a href=\"https://doi.org/10.1016/j.chaos.2020.109932\">A Quantitative and Qualitative Analysis of the COVID–19 Pandemic Model</a></p></td>\n",
       "      <td><p fontsize=tiny\" align=\"left\"><br><br>Mathematical models with computational simulations are effective tools that help global efforts to estimate key transmission parameters and further improvements for controlling this disease.<br><br>Then, we suggest an updated model that includes a system of differential equations with transmission parameters.</p></td>\n",
       "    </tr>\n",
       "    <tr>\n",
       "      <td>2020-07-17</td>\n",
       "      <td>Runvik, and others.</td>\n",
       "      <td><p align=\"left\"><a href=\"https://doi.org/no data \">Initialization of a Disease Transmission Model</a></p></td>\n",
       "      <td><p fontsize=tiny\" align=\"left\"><br><br>The benefits and shortcomings of the considered estimation techniques are analyzed and compared on synthetic data for several swedish counties.initialization of a disease transmission model.</p></td>\n",
       "    </tr>\n",
       "    <tr>\n",
       "      <td>2020-04-26</td>\n",
       "      <td>Wang, and others.</td>\n",
       "      <td><p align=\"left\"><a href=\"https://doi.org/no data \">Global dynamics of a SUIR model with predicting COVID-19</a></p></td>\n",
       "      <td><p fontsize=tiny\" align=\"left\"><br><br>However, many prior works in this area mostly focus on the application of the traditional sir model and disregard the transmission characteristics of 2019-ncov, exceptionally the infectious of undiagnosed cases.</p></td>\n",
       "    </tr>\n",
       "    <tr>\n",
       "      <td>2020-07-29</td>\n",
       "      <td>Carvalho, and others.</td>\n",
       "      <td><p align=\"left\"><a href=\"https://doi.org/10.1101/2020.07.27.20163063\">A novel predictive mathematical model for COVID-19 pandemic with quarantine, contagion dynamics, and environmentally mediated transmission</a></p></td>\n",
       "      <td><p fontsize=tiny\" align=\"left\"><br><br>This work presents an ode model for covid-19 named sindrome that incorporates quarantine, contagion dynamics, and environmentally mediated transmission based on the compartments.<br><br>The sindrome model introduces a new parameter that allows environmentally mediated transmission, moving quarantined individuals to the infected compartment.<br><br>We developed a gray box model with the sindrome, and fit over 169 worldwide regions.a novel predictive mathematical model for covid-19 pandemic with quarantine, contagion dynamics, and environmentally mediated transmission.</p></td>\n",
       "    </tr>\n",
       "  </tbody>\n",
       "</table>"
      ],
      "text/plain": [
       "<IPython.core.display.HTML object>"
      ]
     },
     "metadata": {},
     "output_type": "display_data"
    },
    {
     "data": {
      "text/html": [
       "<br><h3>Q: Are there studies about phenotypic change?</h3>"
      ],
      "text/plain": [
       "<IPython.core.display.HTML object>"
      ]
     },
     "metadata": {},
     "output_type": "display_data"
    },
    {
     "data": {
      "text/html": [
       "<table border=\"1\" class=\"dataframe\">\n",
       "  <thead>\n",
       "    <tr style=\"text-align: right;\">\n",
       "      <th>pub_date</th>\n",
       "      <th>authors</th>\n",
       "      <th>title</th>\n",
       "      <th>fragment</th>\n",
       "    </tr>\n",
       "  </thead>\n",
       "  <tbody>\n",
       "    <tr>\n",
       "      <td>2020-05-18</td>\n",
       "      <td>Jain, and others.</td>\n",
       "      <td><p align=\"left\"><a href=\"https://doi.org/10.1007/s00134-020-06083-6\">Stages or phenotypes? A critical look at COVID-19 pathophysiology</a></p></td>\n",
       "      <td><p fontsize=tiny\" align=\"left\"><br><br>No data stages or phenotypes? a critical look at covid-19 pathophysiology.</p></td>\n",
       "    </tr>\n",
       "    <tr>\n",
       "      <td>2020-04-23</td>\n",
       "      <td>Wilk, and others.</td>\n",
       "      <td><p align=\"left\"><a href=\"https://doi.org/10.1101/2020.04.17.20069930\">A single-cell atlas of the peripheral immune response to severe COVID-19</a></p></td>\n",
       "      <td><p fontsize=tiny\" align=\"left\"><br><br>We identify substantial reconfiguration of peripheral immune cell phenotype in covid-19, including a heterogeneous interferon-stimulated gene (isg) signature, hla class ii downregulation, and a novel b cell-derived granulocyte population appearing in patients with acute respiratory failure requiring mechanical ventilation.</p></td>\n",
       "    </tr>\n",
       "    <tr>\n",
       "      <td>2020-05-22</td>\n",
       "      <td>Balnis, and others.</td>\n",
       "      <td><p align=\"left\"><a href=\"https://doi.org/10.1101/2020.05.21.20051300\">Higher plasma levels of chemokine CCL19 are associated with poor SARS-CoV-2 acute respiratory distress syndrome (ARDS) outcomes.</a></p></td>\n",
       "      <td><p fontsize=tiny\" align=\"left\"><br><br>While an ards-driven hyperinflammatory phenotype is associated with higher mortality in non-covid patients, there is little information on how cytokines and chemokines expressions correlate with clinical outcomes in covid19 patients.</p></td>\n",
       "    </tr>\n",
       "    <tr>\n",
       "      <td>2020-07-06</td>\n",
       "      <td>Gruber, and others.</td>\n",
       "      <td><p align=\"left\"><a href=\"https://doi.org/10.1101/2020.07.04.20142752\">Mapping Systemic Inflammation and Antibody Responses in Multisystem Inflammatory Syndrome in Children (MIS-C)</a></p></td>\n",
       "      <td><p fontsize=tiny\" align=\"left\"><br><br>Mass cytometry immunophenotyping of peripheral blood revealed reductions of mdc1 and non-classical monocytes, as well as both nk- and t- lymphocytes, suggesting extravasation to affected tissues.</p></td>\n",
       "    </tr>\n",
       "    <tr>\n",
       "      <td>2020</td>\n",
       "      <td>Mahalaxmi, and others.</td>\n",
       "      <td><p align=\"left\"><a href=\"https://doi.org/no data \">COVID-19 and olfactory dysfunction: A possible associative approach towards neurodegenerative diseases</a></p></td>\n",
       "      <td><p fontsize=tiny\" align=\"left\"><br><br>We further review the probable cellular mechanism and activation of the microglia 1 phenotype possibly leading to various neurodegenerative disorders.</p></td>\n",
       "    </tr>\n",
       "  </tbody>\n",
       "</table>"
      ],
      "text/plain": [
       "<IPython.core.display.HTML object>"
      ]
     },
     "metadata": {},
     "output_type": "display_data"
    },
    {
     "data": {
      "text/html": [
       "<br><h3>Q: What is know about adaptations (mutations) of the virus?</h3>"
      ],
      "text/plain": [
       "<IPython.core.display.HTML object>"
      ]
     },
     "metadata": {},
     "output_type": "display_data"
    },
    {
     "data": {
      "text/html": [
       "<table border=\"1\" class=\"dataframe\">\n",
       "  <thead>\n",
       "    <tr style=\"text-align: right;\">\n",
       "      <th>pub_date</th>\n",
       "      <th>authors</th>\n",
       "      <th>title</th>\n",
       "      <th>fragment</th>\n",
       "    </tr>\n",
       "  </thead>\n",
       "  <tbody>\n",
       "    <tr>\n",
       "      <td>2020-04-30</td>\n",
       "      <td>Padhi, and others.</td>\n",
       "      <td><p align=\"left\"><a href=\"https://doi.org/10.1007/978-981-15-4814-7_9\">Laboratory Diagnosis of Novel Coronavirus Disease 2019 (COVID-19) Infection</a></p></td>\n",
       "      <td><p fontsize=tiny\" align=\"left\"><br><br>Furthermore, nucleic acid sequencing may be done for the identification of mutation in the genome of sars-cov-2.</p></td>\n",
       "    </tr>\n",
       "    <tr>\n",
       "      <td>2020-07-06</td>\n",
       "      <td>Graudenzi, and others.</td>\n",
       "      <td><p align=\"left\"><a href=\"https://doi.org/10.1101/2020.07.06.189944\">Mutational Signatures and Heterogeneous Host Response Revealed Via Large-Scale Characterization of SARS-COV-2 Genomic Diversity</a></p></td>\n",
       "      <td><p fontsize=tiny\" align=\"left\"><br><br>To dissect the mechanisms underlying the observed inflation of variants in sars-cov-2 genome, we present the largest up-to-date analysis of intra-host genomic diversity, which reveals that the majority of samples present a complex sublineage architecture, due to the interplay between host-related mutational processes and transmission dynamics.<br><br>Strikingly, the deconvolution of the entire set of intra-host variants reveals the existence of mutually exclusive viral mutational signatures, which prove that distinct hosts differently respond to sars-cov-2 infections.<br><br>In particular, two signatures are likely ruled by apobec and reactive oxygen species (ros), which induce hypermutation in a significant number of samples, and appear to be affected by severe purifying selection.<br><br>Conversely, several mutations linked to low-rate mutational processes appear to transit to clonality in the population, eventually leading to the definition of new viral genotypes and to an increase of overall genomic diversity.<br><br>Finally, we demonstrate that a high number of variants are observed in samples associated to independent lineages, likely due to signature-related mutational hotspots or to positive selection.mutational signatures and heterogeneous host response revealed via large-scale characterization of sars-cov-2 genomic diversity.</p></td>\n",
       "    </tr>\n",
       "    <tr>\n",
       "      <td>2020-04-29</td>\n",
       "      <td>Rose, and others.</td>\n",
       "      <td><p align=\"left\"><a href=\"https://doi.org/10.1101/2020.04.24.20078691\">Intra-host site-specific polymorphisms of SARS-CoV-2 is consistent across multiple samples and methodologies</a></p></td>\n",
       "      <td><p fontsize=tiny\" align=\"left\"><br><br>While mutations resulting from amplification and/or sequencing errors cannot be excluded, the observation of shared polymorphic sites with high maf across multiple samples and sequencing methods is consistent with true underlying variation.</p></td>\n",
       "    </tr>\n",
       "    <tr>\n",
       "      <td>2020-05-26</td>\n",
       "      <td>Phelan, and others.</td>\n",
       "      <td><p align=\"left\"><a href=\"https://doi.org/10.1101/2020.04.28.066977\">Controlling the SARS-CoV-2 outbreak, insights from large scale whole genome sequences generated across the world</a></p></td>\n",
       "      <td><p fontsize=tiny\" align=\"left\"><br><br>We also noted that convergent evolution has potentially occurred across several locations in the genome, showing selection pressures, including on the spike glycoprotein where we noted a potentially critical mutation that could affect its binding to the ace2 receptor.<br><br>We also report on mutations that could prevent current molecular diagnostics from detecting some of the sub-clades.</p></td>\n",
       "    </tr>\n",
       "    <tr>\n",
       "      <td>2020-03-12</td>\n",
       "      <td>Su, and others.</td>\n",
       "      <td><p align=\"left\"><a href=\"https://doi.org/10.1101/2020.03.11.987222\">Discovery of a 382-nt deletion during the early evolution of SARS-CoV-2</a></p></td>\n",
       "      <td><p fontsize=tiny\" align=\"left\"><br><br>Overwhelmingly these viruses had mutations or deletions in orf8, that have been associated with reduced replicative fitness of the virus [2].</p></td>\n",
       "    </tr>\n",
       "  </tbody>\n",
       "</table>"
      ],
      "text/plain": [
       "<IPython.core.display.HTML object>"
      ]
     },
     "metadata": {},
     "output_type": "display_data"
    },
    {
     "data": {
      "text/html": [
       "<br><h3>Q: What do we know about the human immune response and immunity?</h3>"
      ],
      "text/plain": [
       "<IPython.core.display.HTML object>"
      ]
     },
     "metadata": {},
     "output_type": "display_data"
    },
    {
     "data": {
      "text/html": [
       "<table border=\"1\" class=\"dataframe\">\n",
       "  <thead>\n",
       "    <tr style=\"text-align: right;\">\n",
       "      <th>pub_date</th>\n",
       "      <th>authors</th>\n",
       "      <th>title</th>\n",
       "      <th>fragment</th>\n",
       "    </tr>\n",
       "  </thead>\n",
       "  <tbody>\n",
       "    <tr>\n",
       "      <td>2020-07-23</td>\n",
       "      <td>Taqarort, and others.</td>\n",
       "      <td><p align=\"left\"><a href=\"https://doi.org/10.1016/j.nupar.2020.05.003\">Vitamine D et risque des infections respiratoires aiguës : grippe et COVID-19</a></p></td>\n",
       "      <td><p fontsize=tiny\" align=\"left\"><br><br>Vitamin d appears to stimulate the activation of the immune response and limit the destructive consequences of immunopathology induced by pathogens.</p></td>\n",
       "    </tr>\n",
       "    <tr>\n",
       "      <td>2020-05-21</td>\n",
       "      <td>Schijns, and others.</td>\n",
       "      <td><p align=\"left\"><a href=\"https://doi.org/10.1002/eji.202048693\">Prevention and treatment of COVID‐19 disease by controlled modulation of innate immunity</a></p></td>\n",
       "      <td><p fontsize=tiny\" align=\"left\"><br><br>Since it will be some time until a safe and effective vaccine will be available, the immediate priority is to harness innate immunity to accelerate early antiviral immune responses.</p></td>\n",
       "    </tr>\n",
       "    <tr>\n",
       "      <td>2020-06-08</td>\n",
       "      <td>Marcault, and others.</td>\n",
       "      <td><p align=\"left\"><a href=\"https://doi.org/10.1111/ajt.16126\">In response to the letter of Montagud‐Marrahi et al.</a></p></td>\n",
       "      <td><p fontsize=tiny\" align=\"left\"><br><br>Moreover, as innate immunity is altered by the infection, decreased doses of immunosuppressive drugs should be considered.in response to the letter of montagud‐marrahi et al.</p></td>\n",
       "    </tr>\n",
       "    <tr>\n",
       "      <td>2020-07-14</td>\n",
       "      <td>Gebicki, and others.</td>\n",
       "      <td><p align=\"left\"><a href=\"https://doi.org/10.1038/s41420-020-00297-9\">COVID-19 infection: mitohormetic concept of immune response</a></p></td>\n",
       "      <td><p fontsize=tiny\" align=\"left\"><br><br>No data covid-19 infection: mitohormetic concept of immune response.</p></td>\n",
       "    </tr>\n",
       "    <tr>\n",
       "      <td>2020-06-10</td>\n",
       "      <td>Suwanwongse, and others.</td>\n",
       "      <td><p align=\"left\"><a href=\"https://doi.org/10.1002/jmv.26154\">Hyperpyrexia in COVID‐19 patients</a></p></td>\n",
       "      <td><p fontsize=tiny\" align=\"left\"><br><br>We propose it may be caused by sars‐cov‐2 related brain injury, exuberant immune response, and thrombus formation.</p></td>\n",
       "    </tr>\n",
       "  </tbody>\n",
       "</table>"
      ],
      "text/plain": [
       "<IPython.core.display.HTML object>"
      ]
     },
     "metadata": {},
     "output_type": "display_data"
    },
    {
     "data": {
      "text/html": [
       "<br><h3>Q: Is population movement control effective in stopping transmission?</h3>"
      ],
      "text/plain": [
       "<IPython.core.display.HTML object>"
      ]
     },
     "metadata": {},
     "output_type": "display_data"
    },
    {
     "data": {
      "text/html": [
       "<table border=\"1\" class=\"dataframe\">\n",
       "  <thead>\n",
       "    <tr style=\"text-align: right;\">\n",
       "      <th>pub_date</th>\n",
       "      <th>authors</th>\n",
       "      <th>title</th>\n",
       "      <th>fragment</th>\n",
       "    </tr>\n",
       "  </thead>\n",
       "  <tbody>\n",
       "    <tr>\n",
       "      <td>2020</td>\n",
       "      <td>Guerrero, and others.</td>\n",
       "      <td><p align=\"left\"><a href=\"https://doi.org/no data \">Canadian children's and youth's adherence to the 24-h movement guidelines during the COVID-19 pandemic: A decision tree analysis</a></p></td>\n",
       "      <td><p fontsize=tiny\" align=\"left\"><br><br>Results highlight the importance of targeting parents' perceived capability for the promotion of children's and youth's movement behaviors during challenging times of the covid-19 pandemic, paying particular attention to enhancing parental perceived capability to restrict screen time.canadian children's and youth's adherence to the 24-h movement guidelines during the covid-19 pandemic: a decision tree analysis.</p></td>\n",
       "    </tr>\n",
       "    <tr>\n",
       "      <td>2020</td>\n",
       "      <td>Moore, and others.</td>\n",
       "      <td><p align=\"left\"><a href=\"https://doi.org/no data \">Impact of the COVID-19 virus outbreak on movement and play behaviours of Canadian children and youth: a national survey</a></p></td>\n",
       "      <td><p fontsize=tiny\" align=\"left\"><br><br>Though the covid-19 virus outbreak has changed the daily lives of children and youth, it is unknown to what extent related restrictions may compromise the ability to play and meet movement behaviour recommendations.<br><br>This secondary data analysis examined the immediate impacts of covid-19 restrictions on movement and play behaviours in children and youth.<br><br>Results: only 4.8% (2.8% girls, 6.5% boys) of children and 0.6% (0.8% girls, 0.5% boys) of youth were meeting combined movement behaviour guidelines during covid-19 restrictions.</p></td>\n",
       "    </tr>\n",
       "    <tr>\n",
       "      <td>2020-06-13</td>\n",
       "      <td>Tang, and others.</td>\n",
       "      <td><p align=\"left\"><a href=\"https://doi.org/10.1007/s10389-020-01316-w\">Movement control as an effective measure against Covid-19 spread in Malaysia: an overview</a></p></td>\n",
       "      <td><p fontsize=tiny\" align=\"left\"><br><br>Results: at the onset of the covid-19 outbreak, malaysia had initiated travel restrictions and quarantine; but with a persistent increase in new covid-19 cases, the movement control order was finally rolled out on 18 march 2020, requiring closure of all businesses except those providing essential services and items.</p></td>\n",
       "    </tr>\n",
       "    <tr>\n",
       "      <td>2020-06-12</td>\n",
       "      <td>Bucsky, and others.</td>\n",
       "      <td><p align=\"left\"><a href=\"https://doi.org/10.1016/j.trip.2020.100141\">Modal share changes due to COVID-19: The case of Budapest</a></p></td>\n",
       "      <td><p fontsize=tiny\" align=\"left\"><br><br>One of the most important responses of countries worldwide to slow the spread of the pandemic has been to restrict the movement of people, which has had a considerable effect on transport systems.</p></td>\n",
       "    </tr>\n",
       "    <tr>\n",
       "      <td>2020-07-21</td>\n",
       "      <td>Ong, and others.</td>\n",
       "      <td><p align=\"left\"><a href=\"https://doi.org/10.1101/2020.07.21.214056\">Implications of the COVID-19 lockdown on dengue transmission and the occurrence of Aedes aegypti (Linnaeus) and Aedes albopictus (Skuse) in Malaysia</a></p></td>\n",
       "      <td><p fontsize=tiny\" align=\"left\"><br><br>The impact of movement restrictions (mrs) during the covid-19 lockdown on the existing endemic infectious disease dengue fever has generated considerable research interest.<br><br>With a partial lockdown implemented by malaysia on 18 march, we postulate the movement restrictions (mrs) of people in large-scale would hamper the regular dengue transmission and aim to reveal the impact of mrs on both dengue incidences and aedes mosquitoes.</p></td>\n",
       "    </tr>\n",
       "  </tbody>\n",
       "</table>"
      ],
      "text/plain": [
       "<IPython.core.display.HTML object>"
      ]
     },
     "metadata": {},
     "output_type": "display_data"
    },
    {
     "data": {
      "text/html": [
       "<br><h3>Q: Effectiveness of personal protective equipment (PPE)?</h3>"
      ],
      "text/plain": [
       "<IPython.core.display.HTML object>"
      ]
     },
     "metadata": {},
     "output_type": "display_data"
    },
    {
     "data": {
      "text/html": [
       "<table border=\"1\" class=\"dataframe\">\n",
       "  <thead>\n",
       "    <tr style=\"text-align: right;\">\n",
       "      <th>pub_date</th>\n",
       "      <th>authors</th>\n",
       "      <th>title</th>\n",
       "      <th>fragment</th>\n",
       "    </tr>\n",
       "  </thead>\n",
       "  <tbody>\n",
       "    <tr>\n",
       "      <td>2020</td>\n",
       "      <td>Chughtai, and others.</td>\n",
       "      <td><p align=\"left\"><a href=\"https://doi.org/no data \">Effectiveness of Cloth Masks for Protection Against Severe Acute Respiratory Syndrome Coronavirus 2</a></p></td>\n",
       "      <td><p fontsize=tiny\" align=\"left\"><br><br>Cloth masks have been used in healthcare and community settings to protect the wearer from respiratory infections.<br><br>The filtration effectiveness of cloth masks is generally lower than that of medical masks and respirators; however, cloth masks may provide some protection if well designed and used correctly.<br><br>Multilayer cloth masks, designed to fit around the face and made of water-resistant fabric with a high number of threads and finer weave, may provide reasonable protection.<br><br>In community settings, however, cloth masks may be used to prevent community spread of infections by sick or asymptomatically infected persons, and the public should be educated about their correct use.effectiveness of cloth masks for protection against severe acute respiratory syndrome coronavirus 2.</p></td>\n",
       "    </tr>\n",
       "    <tr>\n",
       "      <td>2020-07-08</td>\n",
       "      <td>Chughtai, and others.</td>\n",
       "      <td><p align=\"left\"><a href=\"https://doi.org/10.3201/eid2610.200948\">Effectiveness of Cloth Masks for Protection Against Severe Acute Respiratory Syndrome Coronavirus 2.</a></p></td>\n",
       "      <td><p fontsize=tiny\" align=\"left\"><br><br>Cloth masks have been used in healthcare and community settings to protect the wearer from respiratory infections.<br><br>The filtration effectiveness of cloth masks is generally lower than that of medical masks and respirators; however, cloth masks may provide some protection if well designed and used correctly.<br><br>Multilayer cloth masks, designed to fit around the face and made of water-resistant fabric with a high number of threads and finer weave, may provide reasonable protection.<br><br>In community settings, however, cloth masks may be used to prevent community spread of infections by sick or asymptomatically infected persons, and the public should be educated about their correct use.effectiveness of cloth masks for protection against severe acute respiratory syndrome coronavirus 2.</p></td>\n",
       "    </tr>\n",
       "    <tr>\n",
       "      <td>2020-07-17</td>\n",
       "      <td>Fisher, and others.</td>\n",
       "      <td><p align=\"left\"><a href=\"https://doi.org/10.15585/mmwr.mm6928e3\">Factors Associated with Cloth Face Covering Use Among Adults During the COVID-19 Pandemic - United States, April and May 2020.</a></p></td>\n",
       "      <td><p fontsize=tiny\" align=\"left\"><br><br>The use of a cloth face covering was associated with theory-derived constructs that indicate a favorable attitude toward them, intention to use them, ability to use them, social support for using them, and beliefs that they offered protection for self, others, and the community.</p></td>\n",
       "    </tr>\n",
       "    <tr>\n",
       "      <td>2020</td>\n",
       "      <td>Zangmeister, and others.</td>\n",
       "      <td><p align=\"left\"><a href=\"https://doi.org/no data \">Filtration Efficiencies of Nanoscale Aerosol by Cloth Mask Materials Used to Slow the Spread of SARS-CoV-2</a></p></td>\n",
       "      <td><p fontsize=tiny\" align=\"left\"><br><br>Filtration efficiency (fe), differential pressure (&#916;p), quality factor (qf), and construction parameters were measured for 32 cloth materials (14 cotton, 1 wool, 9 synthetic, 4 synthetic blends, and 4 synthetic/cotton blends) used in cloth masks intended for protection from the sars-cov-2 virus (diameter 100 ± 10 nm).<br><br>The fe and &#916;p increased monotonically with the number of cloth layers for a lightweight flannel, suggesting that multilayered cloth masks may offer increased protection from nanometer-sized aerosol with a maximum fe dictated by breathability (i.e., &#916;p).filtration efficiencies of nanoscale aerosol by cloth mask materials used to slow the spread of sars-cov-2.</p></td>\n",
       "    </tr>\n",
       "    <tr>\n",
       "      <td>2020</td>\n",
       "      <td>Konda, and others.</td>\n",
       "      <td><p align=\"left\"><a href=\"https://doi.org/no data \">Aerosol Filtration Efficiency of Common Fabrics Used in Respiratory Cloth Masks</a></p></td>\n",
       "      <td><p fontsize=tiny\" align=\"left\"><br><br>Overall, we find that combinations of various commonly available fabrics used in cloth masks can potentially provide significant protection against the transmission of aerosol particles.aerosol filtration efficiency of common fabrics used in respiratory cloth masks.</p></td>\n",
       "    </tr>\n",
       "  </tbody>\n",
       "</table>"
      ],
      "text/plain": [
       "<IPython.core.display.HTML object>"
      ]
     },
     "metadata": {},
     "output_type": "display_data"
    },
    {
     "data": {
      "text/html": [
       "<br><h3>Q: What is the role of environment in transmission?</h3>"
      ],
      "text/plain": [
       "<IPython.core.display.HTML object>"
      ]
     },
     "metadata": {},
     "output_type": "display_data"
    },
    {
     "data": {
      "text/html": [
       "<table border=\"1\" class=\"dataframe\">\n",
       "  <thead>\n",
       "    <tr style=\"text-align: right;\">\n",
       "      <th>pub_date</th>\n",
       "      <th>authors</th>\n",
       "      <th>title</th>\n",
       "      <th>fragment</th>\n",
       "    </tr>\n",
       "  </thead>\n",
       "  <tbody>\n",
       "    <tr>\n",
       "      <td>2020-02-03</td>\n",
       "      <td>no and others.</td>\n",
       "      <td><p align=\"left\"><a href=\"https://doi.org/10.24171/j.phrp.2020.11.1.03\">Early Epidemiological and Clinical Characteristics of 28 Cases of Coronavirus Disease in South Korea</a></p></td>\n",
       "      <td><p fontsize=tiny\" align=\"left\"><br><br>Of the 28 cases, 16 were index cases imported from abroad, with 10 cases of secondary infection originating in korea, and the route of transmission still under investigation for 2 patients.</p></td>\n",
       "    </tr>\n",
       "    <tr>\n",
       "      <td>2020-02-03</td>\n",
       "      <td>no and others.</td>\n",
       "      <td><p align=\"left\"><a href=\"https://doi.org/10.24171/j.phrp.2020.11.1.09\">Contact Transmission of COVID-19 in South Korea: Novel Investigation Techniques for Tracing Contacts</a></p></td>\n",
       "      <td><p fontsize=tiny\" align=\"left\"><br><br>In the epidemiological investigation of an infectious disease, investigating, classifying, tracking, and managing contacts by identifying the patient’s route are important for preventing further transmission of the disease.</p></td>\n",
       "    </tr>\n",
       "    <tr>\n",
       "      <td>2020-04-06</td>\n",
       "      <td>Nouri‐Vaskeh, and others.</td>\n",
       "      <td><p align=\"left\"><a href=\"https://doi.org/10.1002/jmv.25816\">Fecal transmission in COVID‐19: A potential shedding route</a></p></td>\n",
       "      <td><p fontsize=tiny\" align=\"left\"><br><br>All rights reserved.fecal transmission in covid‐19: a potential shedding route.</p></td>\n",
       "    </tr>\n",
       "    <tr>\n",
       "      <td>2020-07-14</td>\n",
       "      <td>Aboubakr, and others.</td>\n",
       "      <td><p align=\"left\"><a href=\"https://doi.org/10.1111/tbed.13707\">Stability of SARS‐CoV‐2 and other coronaviruses in the environment and on common touch surfaces and the influence of climatic conditions: A review</a></p></td>\n",
       "      <td><p fontsize=tiny\" align=\"left\"><br><br>The preventive measures depend mainly on the understanding of the transmission routes of this virus, its environmental stability, and its persistence on common touch surfaces.</p></td>\n",
       "    </tr>\n",
       "    <tr>\n",
       "      <td>2020-05-25</td>\n",
       "      <td>Kotian, and others.</td>\n",
       "      <td><p align=\"left\"><a href=\"https://doi.org/10.1007/s12553-020-00437-2\">Knowledge and understanding among medical imaging professionals in India during the rapid rise of the covid-19 pandemic</a></p></td>\n",
       "      <td><p fontsize=tiny\" align=\"left\"><br><br>The knowledge and understanding questionnaire consisted questions regarding the clinical characteristics and transmission routes of covid-19.</p></td>\n",
       "    </tr>\n",
       "  </tbody>\n",
       "</table>"
      ],
      "text/plain": [
       "<IPython.core.display.HTML object>"
      ]
     },
     "metadata": {},
     "output_type": "display_data"
    }
   ],
   "source": [
    "# list of lists of search terms\n",
    "questions=[\n",
    "['Q: What is the range of incubation periods for the disease in humans?'],\n",
    "['Q: How long are individuals contagious?'],\n",
    "['Q: How long are individuals contagious, even after recovery.'],\n",
    "['Q: Does the range of incubation period vary across age groups?'],\n",
    "['Q: Does the range of incubation period vary with children?'],\n",
    "['Q: Does the range of incubation period vary based on underlying health?'],\n",
    "['Q: What do we know about the basic reproduction number?'],\n",
    "['Q: What is the prevalance of asymptomatic transmission?'],\n",
    "['Q: What do we know about asymptomatic transmission in children?'],\n",
    "['Q: What do we know about seasonality of transmission?'],\n",
    "['Q: Informing decontamination based on physical science of the coronavirus?'],\n",
    "['Q: What do we know about stability of the virus in environmental conditions?'],\n",
    "['Q: What do we know about persistence of the virus on various substrates? (e.g., nasal discharge, sputum, urine, fecal matter, blood)'],\n",
    "['Q: What do we know about persistence of the virus on various surfaces? (e,g., copper, stainless steel, plastic) '],\n",
    "['Q: What do we know about viral shedding duration?'],\n",
    "['Q: What do we know about viral shedding in fecal/stool?'],\n",
    "['Q: What do we know about viral shedding from nasopharynx?'],\n",
    "['Q: What do we know about viral shedding in blood?'],\n",
    "['Q: What do we know about viral shedding in urine?'],\n",
    "['Q: What do we know about implemtation of diagnostics?'],\n",
    "['Q: What do we know about disease models?'],\n",
    "['Q: What do we know about models for disease infection?'],\n",
    "['Q: What do we know about models for disease transmission?'],\n",
    "['Q: Are there studies about phenotypic change?'],\n",
    "['Q: What is know about adaptations (mutations) of the virus?'],\n",
    "['Q: What do we know about the human immune response and immunity?'],\n",
    "['Q: Is population movement control effective in stopping transmission?'],\n",
    "['Q: Effectiveness of personal protective equipment (PPE)?'],\n",
    "['Q: What is the role of environment in transmission?']\n",
    "]\n",
    "\n",
    "search_words=[\n",
    "['incubation','period','range'],\n",
    "['viral','shedding','duration'],\n",
    "['asymptomatic','shedding'],\n",
    "['incubation','period','age','statistically','significant'],\n",
    "['incubation','period','child'],\n",
    "['incubation','groups','risk'],\n",
    "['basic','reproduction', 'number','%'],\n",
    "['asymptomatic','infection','%'],\n",
    "['asymptomatic','children'],\n",
    "['seasonal','transmission'],\n",
    "['contaminat','object'],\n",
    "['environmental', 'conditions'],\n",
    "['sputum','stool','blood','urine'],\n",
    "['persistence','surfaces'],\n",
    "['duration','viral','shedding'],\n",
    "['shedding','stool'],\n",
    "['shedding','nasopharynx'],\n",
    "['shedding','blood'],\n",
    "['shedding','urine'],\n",
    "['diagnostics','point'],\n",
    "['model', 'disease'],        \n",
    "['model', 'infection'],\n",
    "['model', 'transmission'],\n",
    "['phenotypic'],\n",
    "['mutation'],\n",
    "['immune','response'],\n",
    "['restriction', 'movement'],\n",
    "['protective','clothing'],\n",
    "['transmission','routes']\n",
    "]\n",
    "\n",
    "q_count=0\n",
    "\n",
    "for search_words in search_words:\n",
    "    str1=''\n",
    "    # make a string of the search words to print readable table\n",
    "    str1=''.join(questions[q_count])\n",
    "    \n",
    "    #search the dataframe for all words\n",
    "    df1=search_dataframe(df,search_words)\n",
    "\n",
    "    # analyze search results for relevance \n",
    "    df1=search_relevance(df1,search_words)\n",
    "\n",
    "    # get best sentences\n",
    "    df_table=get_sentences(df1,search_words)\n",
    "    \n",
    "    # get the length of rows\n",
    "    length=df_table.shape[0]\n",
    "    \n",
    "    #limit 3 results\n",
    "    df_table=df_table.head()\n",
    "    \n",
    "    # dropping the rel_score\n",
    "    df_table=df_table.drop(['rel_score'], axis=1)\n",
    "    \n",
    "    #convert df to html readable table\n",
    "    df_table=HTML(df_table.to_html(escape=False,index=False))\n",
    "    \n",
    "    # display the question\n",
    "    display(HTML('<br><h3>'+str1+'</h3>'))\n",
    "    \n",
    "    #display the summary\n",
    "    if length<1:\n",
    "        print (\"No reliable answer found\")\n",
    "    else:\n",
    "        display(df_table)\n",
    "    q_count=q_count+1"
   ]
  },
  {
   "cell_type": "code",
   "execution_count": null,
   "metadata": {},
   "outputs": [],
   "source": []
  }
 ],
 "metadata": {
  "kernelspec": {
   "display_name": "Python 3",
   "language": "python",
   "name": "python3"
  },
  "language_info": {
   "codemirror_mode": {
    "name": "ipython",
    "version": 3
   },
   "file_extension": ".py",
   "mimetype": "text/x-python",
   "name": "python",
   "nbconvert_exporter": "python",
   "pygments_lexer": "ipython3",
   "version": "3.6.9"
  }
 },
 "nbformat": 4,
 "nbformat_minor": 4
}
